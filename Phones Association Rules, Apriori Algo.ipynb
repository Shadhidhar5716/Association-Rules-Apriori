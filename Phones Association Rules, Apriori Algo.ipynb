{
 "cells": [
  {
   "cell_type": "code",
   "execution_count": 1,
   "id": "3b6e5b03",
   "metadata": {},
   "outputs": [],
   "source": [
    "# Importing the Libraries\n",
    "import pandas as pd\n",
    "import matplotlib.pyplot as plt\n",
    "import numpy as np\n",
    "import seaborn as sns\n",
    "from mlxtend.frequent_patterns import apriori, association_rules"
   ]
  },
  {
   "cell_type": "code",
   "execution_count": 2,
   "id": "af7aa443",
   "metadata": {},
   "outputs": [],
   "source": [
    "# Importing the Warnings to not get future warnings\n",
    "import warnings\n",
    "warnings.filterwarnings('ignore')"
   ]
  },
  {
   "cell_type": "code",
   "execution_count": 3,
   "id": "ac8bff89",
   "metadata": {},
   "outputs": [],
   "source": [
    "# Loading the dataset\n",
    "data = pd.read_csv(r\"C:\\Users\\Shashi\\Unsupervised Learning or Descriptive Model\\Association Rules\\myphonedata.csv\")"
   ]
  },
  {
   "cell_type": "code",
   "execution_count": 4,
   "id": "edde04ee",
   "metadata": {},
   "outputs": [
    {
     "data": {
      "text/html": [
       "<div>\n",
       "<style scoped>\n",
       "    .dataframe tbody tr th:only-of-type {\n",
       "        vertical-align: middle;\n",
       "    }\n",
       "\n",
       "    .dataframe tbody tr th {\n",
       "        vertical-align: top;\n",
       "    }\n",
       "\n",
       "    .dataframe thead th {\n",
       "        text-align: right;\n",
       "    }\n",
       "</style>\n",
       "<table border=\"1\" class=\"dataframe\">\n",
       "  <thead>\n",
       "    <tr style=\"text-align: right;\">\n",
       "      <th></th>\n",
       "      <th>V1</th>\n",
       "      <th>V2</th>\n",
       "      <th>V3</th>\n",
       "      <th>red</th>\n",
       "      <th>white</th>\n",
       "      <th>green</th>\n",
       "      <th>yellow</th>\n",
       "      <th>orange</th>\n",
       "      <th>blue</th>\n",
       "    </tr>\n",
       "  </thead>\n",
       "  <tbody>\n",
       "    <tr>\n",
       "      <th>0</th>\n",
       "      <td>red</td>\n",
       "      <td>white</td>\n",
       "      <td>green</td>\n",
       "      <td>1</td>\n",
       "      <td>1</td>\n",
       "      <td>1</td>\n",
       "      <td>0</td>\n",
       "      <td>0</td>\n",
       "      <td>0</td>\n",
       "    </tr>\n",
       "    <tr>\n",
       "      <th>1</th>\n",
       "      <td>white</td>\n",
       "      <td>orange</td>\n",
       "      <td>NaN</td>\n",
       "      <td>0</td>\n",
       "      <td>1</td>\n",
       "      <td>0</td>\n",
       "      <td>0</td>\n",
       "      <td>1</td>\n",
       "      <td>0</td>\n",
       "    </tr>\n",
       "    <tr>\n",
       "      <th>2</th>\n",
       "      <td>white</td>\n",
       "      <td>blue</td>\n",
       "      <td>NaN</td>\n",
       "      <td>0</td>\n",
       "      <td>1</td>\n",
       "      <td>0</td>\n",
       "      <td>0</td>\n",
       "      <td>0</td>\n",
       "      <td>1</td>\n",
       "    </tr>\n",
       "    <tr>\n",
       "      <th>3</th>\n",
       "      <td>red</td>\n",
       "      <td>white</td>\n",
       "      <td>orange</td>\n",
       "      <td>1</td>\n",
       "      <td>1</td>\n",
       "      <td>0</td>\n",
       "      <td>0</td>\n",
       "      <td>1</td>\n",
       "      <td>0</td>\n",
       "    </tr>\n",
       "    <tr>\n",
       "      <th>4</th>\n",
       "      <td>red</td>\n",
       "      <td>blue</td>\n",
       "      <td>NaN</td>\n",
       "      <td>1</td>\n",
       "      <td>0</td>\n",
       "      <td>0</td>\n",
       "      <td>0</td>\n",
       "      <td>0</td>\n",
       "      <td>1</td>\n",
       "    </tr>\n",
       "  </tbody>\n",
       "</table>\n",
       "</div>"
      ],
      "text/plain": [
       "      V1      V2      V3  red  white  green  yellow  orange  blue\n",
       "0    red   white   green    1      1      1       0       0     0\n",
       "1  white  orange     NaN    0      1      0       0       1     0\n",
       "2  white    blue     NaN    0      1      0       0       0     1\n",
       "3    red   white  orange    1      1      0       0       1     0\n",
       "4    red    blue     NaN    1      0      0       0       0     1"
      ]
     },
     "execution_count": 4,
     "metadata": {},
     "output_type": "execute_result"
    }
   ],
   "source": [
    "# Checking for head of data, which gives top 5 rows\n",
    "data.head()"
   ]
  },
  {
   "cell_type": "code",
   "execution_count": 5,
   "id": "bc8aa9a8",
   "metadata": {},
   "outputs": [
    {
     "data": {
      "text/plain": [
       "red       0.545455\n",
       "white     0.636364\n",
       "green     0.181818\n",
       "yellow    0.090909\n",
       "orange    0.181818\n",
       "blue      0.545455\n",
       "dtype: float64"
      ]
     },
     "execution_count": 5,
     "metadata": {},
     "output_type": "execute_result"
    }
   ],
   "source": [
    "# 1st Business Moment : Measures of Central Tendency\n",
    "# Checking the mean, mode, median\n",
    "data.mean()"
   ]
  },
  {
   "cell_type": "code",
   "execution_count": 6,
   "id": "e8f5c405",
   "metadata": {},
   "outputs": [
    {
     "data": {
      "text/html": [
       "<div>\n",
       "<style scoped>\n",
       "    .dataframe tbody tr th:only-of-type {\n",
       "        vertical-align: middle;\n",
       "    }\n",
       "\n",
       "    .dataframe tbody tr th {\n",
       "        vertical-align: top;\n",
       "    }\n",
       "\n",
       "    .dataframe thead th {\n",
       "        text-align: right;\n",
       "    }\n",
       "</style>\n",
       "<table border=\"1\" class=\"dataframe\">\n",
       "  <thead>\n",
       "    <tr style=\"text-align: right;\">\n",
       "      <th></th>\n",
       "      <th>V1</th>\n",
       "      <th>V2</th>\n",
       "      <th>V3</th>\n",
       "      <th>red</th>\n",
       "      <th>white</th>\n",
       "      <th>green</th>\n",
       "      <th>yellow</th>\n",
       "      <th>orange</th>\n",
       "      <th>blue</th>\n",
       "    </tr>\n",
       "  </thead>\n",
       "  <tbody>\n",
       "    <tr>\n",
       "      <th>0</th>\n",
       "      <td>red</td>\n",
       "      <td>blue</td>\n",
       "      <td>blue</td>\n",
       "      <td>1.0</td>\n",
       "      <td>1.0</td>\n",
       "      <td>0.0</td>\n",
       "      <td>0.0</td>\n",
       "      <td>0.0</td>\n",
       "      <td>1.0</td>\n",
       "    </tr>\n",
       "    <tr>\n",
       "      <th>1</th>\n",
       "      <td>NaN</td>\n",
       "      <td>white</td>\n",
       "      <td>NaN</td>\n",
       "      <td>NaN</td>\n",
       "      <td>NaN</td>\n",
       "      <td>NaN</td>\n",
       "      <td>NaN</td>\n",
       "      <td>NaN</td>\n",
       "      <td>NaN</td>\n",
       "    </tr>\n",
       "  </tbody>\n",
       "</table>\n",
       "</div>"
      ],
      "text/plain": [
       "    V1     V2    V3  red  white  green  yellow  orange  blue\n",
       "0  red   blue  blue  1.0    1.0    0.0     0.0     0.0   1.0\n",
       "1  NaN  white   NaN  NaN    NaN    NaN     NaN     NaN   NaN"
      ]
     },
     "execution_count": 6,
     "metadata": {},
     "output_type": "execute_result"
    }
   ],
   "source": [
    "data.mode()"
   ]
  },
  {
   "cell_type": "code",
   "execution_count": 7,
   "id": "feb2f537",
   "metadata": {},
   "outputs": [
    {
     "data": {
      "text/plain": [
       "red       1.0\n",
       "white     1.0\n",
       "green     0.0\n",
       "yellow    0.0\n",
       "orange    0.0\n",
       "blue      1.0\n",
       "dtype: float64"
      ]
     },
     "execution_count": 7,
     "metadata": {},
     "output_type": "execute_result"
    }
   ],
   "source": [
    "data.median()"
   ]
  },
  {
   "cell_type": "code",
   "execution_count": 8,
   "id": "9162224a",
   "metadata": {},
   "outputs": [
    {
     "data": {
      "text/plain": [
       "red       0.272727\n",
       "white     0.254545\n",
       "green     0.163636\n",
       "yellow    0.090909\n",
       "orange    0.163636\n",
       "blue      0.272727\n",
       "dtype: float64"
      ]
     },
     "execution_count": 8,
     "metadata": {},
     "output_type": "execute_result"
    }
   ],
   "source": [
    "# 2nd Business Moment : Measures of Dispersation\n",
    "# Checking for Variance, Standard Distibution\n",
    "data.var()"
   ]
  },
  {
   "cell_type": "code",
   "execution_count": 9,
   "id": "d96818af",
   "metadata": {},
   "outputs": [
    {
     "data": {
      "text/plain": [
       "red       0.522233\n",
       "white     0.504525\n",
       "green     0.404520\n",
       "yellow    0.301511\n",
       "orange    0.404520\n",
       "blue      0.522233\n",
       "dtype: float64"
      ]
     },
     "execution_count": 9,
     "metadata": {},
     "output_type": "execute_result"
    }
   ],
   "source": [
    "data.std()"
   ]
  },
  {
   "cell_type": "code",
   "execution_count": 10,
   "id": "fab71eec",
   "metadata": {},
   "outputs": [
    {
     "data": {
      "text/plain": [
       "red      -0.212762\n",
       "white    -0.660687\n",
       "green     1.922718\n",
       "yellow    3.316625\n",
       "orange    1.922718\n",
       "blue     -0.212762\n",
       "dtype: float64"
      ]
     },
     "execution_count": 10,
     "metadata": {},
     "output_type": "execute_result"
    }
   ],
   "source": [
    "# 3rd Business Moment : Measures of Skewness\n",
    "data.skew()"
   ]
  },
  {
   "cell_type": "code",
   "execution_count": 11,
   "id": "4e0565cc",
   "metadata": {},
   "outputs": [
    {
     "data": {
      "text/plain": [
       "red       -2.444444\n",
       "white     -1.964286\n",
       "green      2.037037\n",
       "yellow    11.000000\n",
       "orange     2.037037\n",
       "blue      -2.444444\n",
       "dtype: float64"
      ]
     },
     "execution_count": 11,
     "metadata": {},
     "output_type": "execute_result"
    }
   ],
   "source": [
    "# 4th Business Moment : Measures of Kurtisos\n",
    "data.kurt()"
   ]
  },
  {
   "cell_type": "code",
   "execution_count": 12,
   "id": "aa8fd0c5",
   "metadata": {},
   "outputs": [
    {
     "data": {
      "text/plain": [
       "{'whiskers': [<matplotlib.lines.Line2D at 0x1b16dfa8910>,\n",
       "  <matplotlib.lines.Line2D at 0x1b16dfa8be0>],\n",
       " 'caps': [<matplotlib.lines.Line2D at 0x1b16dfa8eb0>,\n",
       "  <matplotlib.lines.Line2D at 0x1b16e66a1c0>],\n",
       " 'boxes': [<matplotlib.lines.Line2D at 0x1b16dfa8640>],\n",
       " 'medians': [<matplotlib.lines.Line2D at 0x1b16e66a490>],\n",
       " 'fliers': [<matplotlib.lines.Line2D at 0x1b16e66a760>],\n",
       " 'means': []}"
      ]
     },
     "execution_count": 12,
     "metadata": {},
     "output_type": "execute_result"
    },
    {
     "data": {
      "image/png": "[encoded data removed]",
      "text/plain": [
       "<Figure size 640x480 with 1 Axes>"
      ]
     },
     "metadata": {},
     "output_type": "display_data"
    }
   ],
   "source": [
    "# Graphical Representation\n",
    "# Using box plot to check outliers\n",
    "plt.boxplot(data['red'])"
   ]
  },
  {
   "cell_type": "code",
   "execution_count": 13,
   "id": "8df08295",
   "metadata": {},
   "outputs": [
    {
     "data": {
      "text/plain": [
       "{'whiskers': [<matplotlib.lines.Line2D at 0x1b16e6c4a60>,\n",
       "  <matplotlib.lines.Line2D at 0x1b16e6c4d30>],\n",
       " 'caps': [<matplotlib.lines.Line2D at 0x1b16e6d3040>,\n",
       "  <matplotlib.lines.Line2D at 0x1b16e6d3340>],\n",
       " 'boxes': [<matplotlib.lines.Line2D at 0x1b16e6c4790>],\n",
       " 'medians': [<matplotlib.lines.Line2D at 0x1b16e6d3610>],\n",
       " 'fliers': [<matplotlib.lines.Line2D at 0x1b16e6d3910>],\n",
       " 'means': []}"
      ]
     },
     "execution_count": 13,
     "metadata": {},
     "output_type": "execute_result"
    },
    {
     "data": {
      "image/png": "[encoded data removed]",
      "text/plain": [
       "<Figure size 640x480 with 1 Axes>"
      ]
     },
     "metadata": {},
     "output_type": "display_data"
    }
   ],
   "source": [
    "plt.boxplot(data['white'])"
   ]
  },
  {
   "cell_type": "code",
   "execution_count": 14,
   "id": "795e7b9f",
   "metadata": {},
   "outputs": [
    {
     "data": {
      "text/plain": [
       "{'whiskers': [<matplotlib.lines.Line2D at 0x1b16e728e80>,\n",
       "  <matplotlib.lines.Line2D at 0x1b16e739190>],\n",
       " 'caps': [<matplotlib.lines.Line2D at 0x1b16e739460>,\n",
       "  <matplotlib.lines.Line2D at 0x1b16e739730>],\n",
       " 'boxes': [<matplotlib.lines.Line2D at 0x1b16e728bb0>],\n",
       " 'medians': [<matplotlib.lines.Line2D at 0x1b16e739a00>],\n",
       " 'fliers': [<matplotlib.lines.Line2D at 0x1b16e739cd0>],\n",
       " 'means': []}"
      ]
     },
     "execution_count": 14,
     "metadata": {},
     "output_type": "execute_result"
    },
    {
     "data": {
      "image/png": "[encoded data removed]",
      "text/plain": [
       "<Figure size 640x480 with 1 Axes>"
      ]
     },
     "metadata": {},
     "output_type": "display_data"
    }
   ],
   "source": [
    "plt.boxplot(data['green'])"
   ]
  },
  {
   "cell_type": "code",
   "execution_count": 15,
   "id": "781588dc",
   "metadata": {},
   "outputs": [
    {
     "data": {
      "text/plain": [
       "{'whiskers': [<matplotlib.lines.Line2D at 0x1b16e79d580>,\n",
       "  <matplotlib.lines.Line2D at 0x1b16e79d850>],\n",
       " 'caps': [<matplotlib.lines.Line2D at 0x1b16e79db20>,\n",
       "  <matplotlib.lines.Line2D at 0x1b16e79ddf0>],\n",
       " 'boxes': [<matplotlib.lines.Line2D at 0x1b16e79d280>],\n",
       " 'medians': [<matplotlib.lines.Line2D at 0x1b16e7aa100>],\n",
       " 'fliers': [<matplotlib.lines.Line2D at 0x1b16e7aa3d0>],\n",
       " 'means': []}"
      ]
     },
     "execution_count": 15,
     "metadata": {},
     "output_type": "execute_result"
    },
    {
     "data": {
      "image/png": "[encoded data removed]",
      "text/plain": [
       "<Figure size 640x480 with 1 Axes>"
      ]
     },
     "metadata": {},
     "output_type": "display_data"
    }
   ],
   "source": [
    "plt.boxplot(data['yellow'])"
   ]
  },
  {
   "cell_type": "code",
   "execution_count": 16,
   "id": "47cefead",
   "metadata": {},
   "outputs": [
    {
     "data": {
      "text/plain": [
       "{'whiskers': [<matplotlib.lines.Line2D at 0x1b16e87cb20>,\n",
       "  <matplotlib.lines.Line2D at 0x1b16e87cdf0>],\n",
       " 'caps': [<matplotlib.lines.Line2D at 0x1b16e889100>,\n",
       "  <matplotlib.lines.Line2D at 0x1b16e8893d0>],\n",
       " 'boxes': [<matplotlib.lines.Line2D at 0x1b16e87c940>],\n",
       " 'medians': [<matplotlib.lines.Line2D at 0x1b16e8896a0>],\n",
       " 'fliers': [<matplotlib.lines.Line2D at 0x1b16e889970>],\n",
       " 'means': []}"
      ]
     },
     "execution_count": 16,
     "metadata": {},
     "output_type": "execute_result"
    },
    {
     "data": {
      "image/png": "[encoded data removed]",
      "text/plain": [
       "<Figure size 640x480 with 1 Axes>"
      ]
     },
     "metadata": {},
     "output_type": "display_data"
    }
   ],
   "source": [
    "plt.boxplot(data['orange'])"
   ]
  },
  {
   "cell_type": "code",
   "execution_count": 17,
   "id": "4e6b6262",
   "metadata": {},
   "outputs": [
    {
     "data": {
      "text/plain": [
       "{'whiskers': [<matplotlib.lines.Line2D at 0x1b16ea1ee50>,\n",
       "  <matplotlib.lines.Line2D at 0x1b16e8ad160>],\n",
       " 'caps': [<matplotlib.lines.Line2D at 0x1b16e8ad430>,\n",
       "  <matplotlib.lines.Line2D at 0x1b16e8ad700>],\n",
       " 'boxes': [<matplotlib.lines.Line2D at 0x1b16ea1eb80>],\n",
       " 'medians': [<matplotlib.lines.Line2D at 0x1b16e8ad9d0>],\n",
       " 'fliers': [<matplotlib.lines.Line2D at 0x1b16e8adca0>],\n",
       " 'means': []}"
      ]
     },
     "execution_count": 17,
     "metadata": {},
     "output_type": "execute_result"
    },
    {
     "data": {
      "image/png": "[encoded data removed]",
      "text/plain": [
       "<Figure size 640x480 with 1 Axes>"
      ]
     },
     "metadata": {},
     "output_type": "display_data"
    }
   ],
   "source": [
    "plt.boxplot(data['blue'])"
   ]
  },
  {
   "cell_type": "code",
   "execution_count": 18,
   "id": "41e2f2ee",
   "metadata": {},
   "outputs": [],
   "source": [
    "# Importing Winsorization to clean outliers \n",
    "from feature_engine.outliers import Winsorizer"
   ]
  },
  {
   "cell_type": "code",
   "execution_count": 19,
   "id": "a7a4f45e",
   "metadata": {},
   "outputs": [
    {
     "data": {
      "text/plain": [
       "<AxesSubplot:xlabel='orange'>"
      ]
     },
     "execution_count": 19,
     "metadata": {},
     "output_type": "execute_result"
    },
    {
     "data": {
      "image/png": "[encoded data removed]",
      "text/plain": [
       "<Figure size 640x480 with 1 Axes>"
      ]
     },
     "metadata": {},
     "output_type": "display_data"
    }
   ],
   "source": [
    "winsor_iqr = Winsorizer(capping_method = 'iqr',\n",
    "                           tail = 'both', \n",
    "                            fold = 1.5,\n",
    "                             variables = ('orange'))\n",
    "\n",
    "data_iqr = winsor_iqr.fit_transform(data[['orange']])\n",
    "\n",
    "sns.boxplot(data_iqr['orange'])"
   ]
  },
  {
   "cell_type": "code",
   "execution_count": 20,
   "id": "aea28216",
   "metadata": {},
   "outputs": [
    {
     "data": {
      "text/plain": [
       "<AxesSubplot:xlabel='yellow'>"
      ]
     },
     "execution_count": 20,
     "metadata": {},
     "output_type": "execute_result"
    },
    {
     "data": {
      "image/png": "[encoded data removed]",
      "text/plain": [
       "<Figure size 640x480 with 1 Axes>"
      ]
     },
     "metadata": {},
     "output_type": "display_data"
    }
   ],
   "source": [
    "winsor_iqr = Winsorizer(capping_method = 'iqr',\n",
    "                           tail = 'both', \n",
    "                            fold = 1.5,\n",
    "                             variables = ('yellow'))\n",
    "\n",
    "data_iqr = winsor_iqr.fit_transform(data[['yellow']])\n",
    "\n",
    "sns.boxplot(data_iqr['yellow'])"
   ]
  },
  {
   "cell_type": "code",
   "execution_count": 21,
   "id": "22a85c39",
   "metadata": {},
   "outputs": [
    {
     "data": {
      "text/plain": [
       "<AxesSubplot:xlabel='green'>"
      ]
     },
     "execution_count": 21,
     "metadata": {},
     "output_type": "execute_result"
    },
    {
     "data": {
      "image/png": "[encoded data removed]",
      "text/plain": [
       "<Figure size 640x480 with 1 Axes>"
      ]
     },
     "metadata": {},
     "output_type": "display_data"
    }
   ],
   "source": [
    "winsor_iqr = Winsorizer(capping_method = 'iqr',\n",
    "                           tail = 'both', \n",
    "                            fold = 1.5,\n",
    "                             variables = ('green'))\n",
    "\n",
    "data_iqr = winsor_iqr.fit_transform(data[['green']])\n",
    "\n",
    "sns.boxplot(data_iqr['green'])"
   ]
  },
  {
   "cell_type": "code",
   "execution_count": 22,
   "id": "0b0a877a",
   "metadata": {},
   "outputs": [
    {
     "data": {
      "text/plain": [
       "3"
      ]
     },
     "execution_count": 22,
     "metadata": {},
     "output_type": "execute_result"
    }
   ],
   "source": [
    "Checking the duplicates\n",
    "duplicates = data.duplicated()\n",
    "sum(duplicates)"
   ]
  },
  {
   "cell_type": "code",
   "execution_count": 27,
   "id": "e42a3290",
   "metadata": {},
   "outputs": [],
   "source": [
    "# Removing the duplicates using drop\n",
    "data = data.drop_duplicates(keep = 'last')"
   ]
  },
  {
   "cell_type": "code",
   "execution_count": 28,
   "id": "d29ba2d2",
   "metadata": {},
   "outputs": [
    {
     "data": {
      "text/plain": [
       "0"
      ]
     },
     "execution_count": 28,
     "metadata": {},
     "output_type": "execute_result"
    }
   ],
   "source": [
    "duplicates = data.duplicated()\n",
    "sum(duplicates)"
   ]
  },
  {
   "cell_type": "code",
   "execution_count": 29,
   "id": "7757d807",
   "metadata": {},
   "outputs": [
    {
     "data": {
      "text/plain": [
       "V1        0\n",
       "V2        2\n",
       "V3        5\n",
       "red       0\n",
       "white     0\n",
       "green     0\n",
       "yellow    0\n",
       "orange    0\n",
       "blue      0\n",
       "dtype: int64"
      ]
     },
     "execution_count": 29,
     "metadata": {},
     "output_type": "execute_result"
    }
   ],
   "source": [
    "# Checking for Missing Values\n",
    "data.isna().sum()"
   ]
  },
  {
   "cell_type": "code",
   "execution_count": 30,
   "id": "079f7c59",
   "metadata": {},
   "outputs": [],
   "source": [
    "# Using Forward fill method to fill na values\n",
    "data['V2'].fillna(method = 'ffill', inplace = True)"
   ]
  },
  {
   "cell_type": "code",
   "execution_count": 31,
   "id": "ca37ed0c",
   "metadata": {},
   "outputs": [],
   "source": [
    "# Using Forward fill method to fill na values\n",
    "data['V3'].fillna(method = 'ffill', inplace = True)"
   ]
  },
  {
   "cell_type": "code",
   "execution_count": 32,
   "id": "20c2cbe0",
   "metadata": {},
   "outputs": [
    {
     "data": {
      "text/plain": [
       "V1        0\n",
       "V2        0\n",
       "V3        0\n",
       "red       0\n",
       "white     0\n",
       "green     0\n",
       "yellow    0\n",
       "orange    0\n",
       "blue      0\n",
       "dtype: int64"
      ]
     },
     "execution_count": 32,
     "metadata": {},
     "output_type": "execute_result"
    }
   ],
   "source": [
    "data.isna().sum()"
   ]
  },
  {
   "cell_type": "code",
   "execution_count": 33,
   "id": "a7bda5d9",
   "metadata": {},
   "outputs": [],
   "source": [
    "# Segreating the Non Numeric and Making DataFrame \n",
    "data_cat = data.select_dtypes(exclude = [np.number])\n",
    "data_cat = pd.DataFrame(data_cat)"
   ]
  },
  {
   "cell_type": "code",
   "execution_count": 34,
   "id": "7383fc5c",
   "metadata": {},
   "outputs": [],
   "source": [
    "# Segreating the Numeric and Making DataFrame\n",
    "data_num = data.select_dtypes(include = [np.number])\n",
    "data_num = pd.DataFrame(data_num)"
   ]
  },
  {
   "cell_type": "code",
   "execution_count": 35,
   "id": "6625f745",
   "metadata": {},
   "outputs": [
    {
     "data": {
      "text/plain": [
       "<seaborn.axisgrid.PairGrid at 0x1b16fc17a00>"
      ]
     },
     "execution_count": 35,
     "metadata": {},
     "output_type": "execute_result"
    },
    {
     "data": {
      "image/png": "[encoded data removed]",
      "text/plain": [
       "<Figure size 1500x1500 with 42 Axes>"
      ]
     },
     "metadata": {},
     "output_type": "display_data"
    }
   ],
   "source": [
    "# with seaborn using pair plot to check scatter plots\n",
    "sns.pairplot(data_num)"
   ]
  },
  {
   "cell_type": "code",
   "execution_count": 36,
   "id": "bc0a90b8",
   "metadata": {},
   "outputs": [],
   "source": [
    "# Joining the both Non Numeric and Numeric into data\n",
    "data = pd.concat((data_cat, data_num), axis = 1)"
   ]
  },
  {
   "cell_type": "code",
   "execution_count": 37,
   "id": "009dc116",
   "metadata": {},
   "outputs": [
    {
     "data": {
      "text/html": [
       "<div>\n",
       "<style scoped>\n",
       "    .dataframe tbody tr th:only-of-type {\n",
       "        vertical-align: middle;\n",
       "    }\n",
       "\n",
       "    .dataframe tbody tr th {\n",
       "        vertical-align: top;\n",
       "    }\n",
       "\n",
       "    .dataframe thead th {\n",
       "        text-align: right;\n",
       "    }\n",
       "</style>\n",
       "<table border=\"1\" class=\"dataframe\">\n",
       "  <thead>\n",
       "    <tr style=\"text-align: right;\">\n",
       "      <th></th>\n",
       "      <th>V1</th>\n",
       "      <th>V2</th>\n",
       "      <th>V3</th>\n",
       "      <th>red</th>\n",
       "      <th>white</th>\n",
       "      <th>green</th>\n",
       "      <th>yellow</th>\n",
       "      <th>orange</th>\n",
       "      <th>blue</th>\n",
       "    </tr>\n",
       "  </thead>\n",
       "  <tbody>\n",
       "    <tr>\n",
       "      <th>0</th>\n",
       "      <td>red</td>\n",
       "      <td>white</td>\n",
       "      <td>green</td>\n",
       "      <td>1</td>\n",
       "      <td>1</td>\n",
       "      <td>1</td>\n",
       "      <td>0</td>\n",
       "      <td>0</td>\n",
       "      <td>0</td>\n",
       "    </tr>\n",
       "    <tr>\n",
       "      <th>1</th>\n",
       "      <td>white</td>\n",
       "      <td>orange</td>\n",
       "      <td>green</td>\n",
       "      <td>0</td>\n",
       "      <td>1</td>\n",
       "      <td>0</td>\n",
       "      <td>0</td>\n",
       "      <td>1</td>\n",
       "      <td>0</td>\n",
       "    </tr>\n",
       "    <tr>\n",
       "      <th>3</th>\n",
       "      <td>red</td>\n",
       "      <td>white</td>\n",
       "      <td>orange</td>\n",
       "      <td>1</td>\n",
       "      <td>1</td>\n",
       "      <td>0</td>\n",
       "      <td>0</td>\n",
       "      <td>1</td>\n",
       "      <td>0</td>\n",
       "    </tr>\n",
       "    <tr>\n",
       "      <th>5</th>\n",
       "      <td>white</td>\n",
       "      <td>blue</td>\n",
       "      <td>orange</td>\n",
       "      <td>0</td>\n",
       "      <td>1</td>\n",
       "      <td>0</td>\n",
       "      <td>0</td>\n",
       "      <td>0</td>\n",
       "      <td>1</td>\n",
       "    </tr>\n",
       "    <tr>\n",
       "      <th>6</th>\n",
       "      <td>red</td>\n",
       "      <td>blue</td>\n",
       "      <td>orange</td>\n",
       "      <td>1</td>\n",
       "      <td>0</td>\n",
       "      <td>0</td>\n",
       "      <td>0</td>\n",
       "      <td>0</td>\n",
       "      <td>1</td>\n",
       "    </tr>\n",
       "    <tr>\n",
       "      <th>8</th>\n",
       "      <td>green</td>\n",
       "      <td>blue</td>\n",
       "      <td>orange</td>\n",
       "      <td>0</td>\n",
       "      <td>0</td>\n",
       "      <td>1</td>\n",
       "      <td>0</td>\n",
       "      <td>0</td>\n",
       "      <td>0</td>\n",
       "    </tr>\n",
       "    <tr>\n",
       "      <th>9</th>\n",
       "      <td>red</td>\n",
       "      <td>white</td>\n",
       "      <td>blue</td>\n",
       "      <td>1</td>\n",
       "      <td>1</td>\n",
       "      <td>0</td>\n",
       "      <td>0</td>\n",
       "      <td>0</td>\n",
       "      <td>1</td>\n",
       "    </tr>\n",
       "    <tr>\n",
       "      <th>10</th>\n",
       "      <td>yellow</td>\n",
       "      <td>white</td>\n",
       "      <td>blue</td>\n",
       "      <td>0</td>\n",
       "      <td>0</td>\n",
       "      <td>0</td>\n",
       "      <td>1</td>\n",
       "      <td>0</td>\n",
       "      <td>0</td>\n",
       "    </tr>\n",
       "  </tbody>\n",
       "</table>\n",
       "</div>"
      ],
      "text/plain": [
       "        V1      V2      V3  red  white  green  yellow  orange  blue\n",
       "0      red   white   green    1      1      1       0       0     0\n",
       "1    white  orange   green    0      1      0       0       1     0\n",
       "3      red   white  orange    1      1      0       0       1     0\n",
       "5    white    blue  orange    0      1      0       0       0     1\n",
       "6      red    blue  orange    1      0      0       0       0     1\n",
       "8    green    blue  orange    0      0      1       0       0     0\n",
       "9      red   white    blue    1      1      0       0       0     1\n",
       "10  yellow   white    blue    0      0      0       1       0     0"
      ]
     },
     "execution_count": 37,
     "metadata": {},
     "output_type": "execute_result"
    }
   ],
   "source": [
    "data"
   ]
  },
  {
   "cell_type": "code",
   "execution_count": 38,
   "id": "f5f04c75",
   "metadata": {},
   "outputs": [],
   "source": [
    "# Converting the data to get numeric values\n",
    "df = data.iloc[:,3:]"
   ]
  },
  {
   "cell_type": "code",
   "execution_count": 39,
   "id": "132d6cf7",
   "metadata": {},
   "outputs": [
    {
     "data": {
      "text/html": [
       "<div>\n",
       "<style scoped>\n",
       "    .dataframe tbody tr th:only-of-type {\n",
       "        vertical-align: middle;\n",
       "    }\n",
       "\n",
       "    .dataframe tbody tr th {\n",
       "        vertical-align: top;\n",
       "    }\n",
       "\n",
       "    .dataframe thead th {\n",
       "        text-align: right;\n",
       "    }\n",
       "</style>\n",
       "<table border=\"1\" class=\"dataframe\">\n",
       "  <thead>\n",
       "    <tr style=\"text-align: right;\">\n",
       "      <th></th>\n",
       "      <th>red</th>\n",
       "      <th>white</th>\n",
       "      <th>green</th>\n",
       "      <th>yellow</th>\n",
       "      <th>orange</th>\n",
       "      <th>blue</th>\n",
       "    </tr>\n",
       "  </thead>\n",
       "  <tbody>\n",
       "    <tr>\n",
       "      <th>count</th>\n",
       "      <td>8.000000</td>\n",
       "      <td>8.000000</td>\n",
       "      <td>8.00000</td>\n",
       "      <td>8.000000</td>\n",
       "      <td>8.00000</td>\n",
       "      <td>8.000000</td>\n",
       "    </tr>\n",
       "    <tr>\n",
       "      <th>mean</th>\n",
       "      <td>0.500000</td>\n",
       "      <td>0.625000</td>\n",
       "      <td>0.25000</td>\n",
       "      <td>0.125000</td>\n",
       "      <td>0.25000</td>\n",
       "      <td>0.375000</td>\n",
       "    </tr>\n",
       "    <tr>\n",
       "      <th>std</th>\n",
       "      <td>0.534522</td>\n",
       "      <td>0.517549</td>\n",
       "      <td>0.46291</td>\n",
       "      <td>0.353553</td>\n",
       "      <td>0.46291</td>\n",
       "      <td>0.517549</td>\n",
       "    </tr>\n",
       "    <tr>\n",
       "      <th>min</th>\n",
       "      <td>0.000000</td>\n",
       "      <td>0.000000</td>\n",
       "      <td>0.00000</td>\n",
       "      <td>0.000000</td>\n",
       "      <td>0.00000</td>\n",
       "      <td>0.000000</td>\n",
       "    </tr>\n",
       "    <tr>\n",
       "      <th>25%</th>\n",
       "      <td>0.000000</td>\n",
       "      <td>0.000000</td>\n",
       "      <td>0.00000</td>\n",
       "      <td>0.000000</td>\n",
       "      <td>0.00000</td>\n",
       "      <td>0.000000</td>\n",
       "    </tr>\n",
       "    <tr>\n",
       "      <th>50%</th>\n",
       "      <td>0.500000</td>\n",
       "      <td>1.000000</td>\n",
       "      <td>0.00000</td>\n",
       "      <td>0.000000</td>\n",
       "      <td>0.00000</td>\n",
       "      <td>0.000000</td>\n",
       "    </tr>\n",
       "    <tr>\n",
       "      <th>75%</th>\n",
       "      <td>1.000000</td>\n",
       "      <td>1.000000</td>\n",
       "      <td>0.25000</td>\n",
       "      <td>0.000000</td>\n",
       "      <td>0.25000</td>\n",
       "      <td>1.000000</td>\n",
       "    </tr>\n",
       "    <tr>\n",
       "      <th>max</th>\n",
       "      <td>1.000000</td>\n",
       "      <td>1.000000</td>\n",
       "      <td>1.00000</td>\n",
       "      <td>1.000000</td>\n",
       "      <td>1.00000</td>\n",
       "      <td>1.000000</td>\n",
       "    </tr>\n",
       "  </tbody>\n",
       "</table>\n",
       "</div>"
      ],
      "text/plain": [
       "            red     white    green    yellow   orange      blue\n",
       "count  8.000000  8.000000  8.00000  8.000000  8.00000  8.000000\n",
       "mean   0.500000  0.625000  0.25000  0.125000  0.25000  0.375000\n",
       "std    0.534522  0.517549  0.46291  0.353553  0.46291  0.517549\n",
       "min    0.000000  0.000000  0.00000  0.000000  0.00000  0.000000\n",
       "25%    0.000000  0.000000  0.00000  0.000000  0.00000  0.000000\n",
       "50%    0.500000  1.000000  0.00000  0.000000  0.00000  0.000000\n",
       "75%    1.000000  1.000000  0.25000  0.000000  0.25000  1.000000\n",
       "max    1.000000  1.000000  1.00000  1.000000  1.00000  1.000000"
      ]
     },
     "execution_count": 39,
     "metadata": {},
     "output_type": "execute_result"
    }
   ],
   "source": [
    "df.describe()"
   ]
  },
  {
   "cell_type": "code",
   "execution_count": 40,
   "id": "b883e0f3",
   "metadata": {},
   "outputs": [],
   "source": [
    "# Importing mlxtend and using frequent_items to get support\n",
    "frequent_item = apriori(df, min_support = 0.0075, max_len = 4, use_colnames = True)"
   ]
  },
  {
   "cell_type": "code",
   "execution_count": 41,
   "id": "c7e85f8e",
   "metadata": {},
   "outputs": [
    {
     "data": {
      "text/html": [
       "<div>\n",
       "<style scoped>\n",
       "    .dataframe tbody tr th:only-of-type {\n",
       "        vertical-align: middle;\n",
       "    }\n",
       "\n",
       "    .dataframe tbody tr th {\n",
       "        vertical-align: top;\n",
       "    }\n",
       "\n",
       "    .dataframe thead th {\n",
       "        text-align: right;\n",
       "    }\n",
       "</style>\n",
       "<table border=\"1\" class=\"dataframe\">\n",
       "  <thead>\n",
       "    <tr style=\"text-align: right;\">\n",
       "      <th></th>\n",
       "      <th>support</th>\n",
       "      <th>itemsets</th>\n",
       "    </tr>\n",
       "  </thead>\n",
       "  <tbody>\n",
       "    <tr>\n",
       "      <th>0</th>\n",
       "      <td>0.500</td>\n",
       "      <td>(red)</td>\n",
       "    </tr>\n",
       "    <tr>\n",
       "      <th>1</th>\n",
       "      <td>0.625</td>\n",
       "      <td>(white)</td>\n",
       "    </tr>\n",
       "    <tr>\n",
       "      <th>2</th>\n",
       "      <td>0.250</td>\n",
       "      <td>(green)</td>\n",
       "    </tr>\n",
       "    <tr>\n",
       "      <th>3</th>\n",
       "      <td>0.125</td>\n",
       "      <td>(yellow)</td>\n",
       "    </tr>\n",
       "    <tr>\n",
       "      <th>4</th>\n",
       "      <td>0.250</td>\n",
       "      <td>(orange)</td>\n",
       "    </tr>\n",
       "    <tr>\n",
       "      <th>5</th>\n",
       "      <td>0.375</td>\n",
       "      <td>(blue)</td>\n",
       "    </tr>\n",
       "    <tr>\n",
       "      <th>6</th>\n",
       "      <td>0.375</td>\n",
       "      <td>(white, red)</td>\n",
       "    </tr>\n",
       "    <tr>\n",
       "      <th>7</th>\n",
       "      <td>0.125</td>\n",
       "      <td>(green, red)</td>\n",
       "    </tr>\n",
       "    <tr>\n",
       "      <th>8</th>\n",
       "      <td>0.125</td>\n",
       "      <td>(orange, red)</td>\n",
       "    </tr>\n",
       "    <tr>\n",
       "      <th>9</th>\n",
       "      <td>0.250</td>\n",
       "      <td>(blue, red)</td>\n",
       "    </tr>\n",
       "    <tr>\n",
       "      <th>10</th>\n",
       "      <td>0.125</td>\n",
       "      <td>(white, green)</td>\n",
       "    </tr>\n",
       "    <tr>\n",
       "      <th>11</th>\n",
       "      <td>0.250</td>\n",
       "      <td>(white, orange)</td>\n",
       "    </tr>\n",
       "    <tr>\n",
       "      <th>12</th>\n",
       "      <td>0.250</td>\n",
       "      <td>(white, blue)</td>\n",
       "    </tr>\n",
       "    <tr>\n",
       "      <th>13</th>\n",
       "      <td>0.125</td>\n",
       "      <td>(white, green, red)</td>\n",
       "    </tr>\n",
       "    <tr>\n",
       "      <th>14</th>\n",
       "      <td>0.125</td>\n",
       "      <td>(white, orange, red)</td>\n",
       "    </tr>\n",
       "    <tr>\n",
       "      <th>15</th>\n",
       "      <td>0.125</td>\n",
       "      <td>(white, blue, red)</td>\n",
       "    </tr>\n",
       "  </tbody>\n",
       "</table>\n",
       "</div>"
      ],
      "text/plain": [
       "    support              itemsets\n",
       "0     0.500                 (red)\n",
       "1     0.625               (white)\n",
       "2     0.250               (green)\n",
       "3     0.125              (yellow)\n",
       "4     0.250              (orange)\n",
       "5     0.375                (blue)\n",
       "6     0.375          (white, red)\n",
       "7     0.125          (green, red)\n",
       "8     0.125         (orange, red)\n",
       "9     0.250           (blue, red)\n",
       "10    0.125        (white, green)\n",
       "11    0.250       (white, orange)\n",
       "12    0.250         (white, blue)\n",
       "13    0.125   (white, green, red)\n",
       "14    0.125  (white, orange, red)\n",
       "15    0.125    (white, blue, red)"
      ]
     },
     "execution_count": 41,
     "metadata": {},
     "output_type": "execute_result"
    }
   ],
   "source": [
    "frequent_item"
   ]
  },
  {
   "cell_type": "code",
   "execution_count": 42,
   "id": "f638394c",
   "metadata": {},
   "outputs": [],
   "source": [
    "frequent_item.sort_values('support', ascending = False, inplace = True)"
   ]
  },
  {
   "cell_type": "code",
   "execution_count": 43,
   "id": "9e4884ef",
   "metadata": {},
   "outputs": [
    {
     "data": {
      "text/html": [
       "<div>\n",
       "<style scoped>\n",
       "    .dataframe tbody tr th:only-of-type {\n",
       "        vertical-align: middle;\n",
       "    }\n",
       "\n",
       "    .dataframe tbody tr th {\n",
       "        vertical-align: top;\n",
       "    }\n",
       "\n",
       "    .dataframe thead th {\n",
       "        text-align: right;\n",
       "    }\n",
       "</style>\n",
       "<table border=\"1\" class=\"dataframe\">\n",
       "  <thead>\n",
       "    <tr style=\"text-align: right;\">\n",
       "      <th></th>\n",
       "      <th>support</th>\n",
       "      <th>itemsets</th>\n",
       "    </tr>\n",
       "  </thead>\n",
       "  <tbody>\n",
       "    <tr>\n",
       "      <th>1</th>\n",
       "      <td>0.625</td>\n",
       "      <td>(white)</td>\n",
       "    </tr>\n",
       "    <tr>\n",
       "      <th>0</th>\n",
       "      <td>0.500</td>\n",
       "      <td>(red)</td>\n",
       "    </tr>\n",
       "    <tr>\n",
       "      <th>5</th>\n",
       "      <td>0.375</td>\n",
       "      <td>(blue)</td>\n",
       "    </tr>\n",
       "    <tr>\n",
       "      <th>6</th>\n",
       "      <td>0.375</td>\n",
       "      <td>(white, red)</td>\n",
       "    </tr>\n",
       "    <tr>\n",
       "      <th>2</th>\n",
       "      <td>0.250</td>\n",
       "      <td>(green)</td>\n",
       "    </tr>\n",
       "    <tr>\n",
       "      <th>4</th>\n",
       "      <td>0.250</td>\n",
       "      <td>(orange)</td>\n",
       "    </tr>\n",
       "    <tr>\n",
       "      <th>9</th>\n",
       "      <td>0.250</td>\n",
       "      <td>(blue, red)</td>\n",
       "    </tr>\n",
       "    <tr>\n",
       "      <th>11</th>\n",
       "      <td>0.250</td>\n",
       "      <td>(white, orange)</td>\n",
       "    </tr>\n",
       "    <tr>\n",
       "      <th>12</th>\n",
       "      <td>0.250</td>\n",
       "      <td>(white, blue)</td>\n",
       "    </tr>\n",
       "    <tr>\n",
       "      <th>3</th>\n",
       "      <td>0.125</td>\n",
       "      <td>(yellow)</td>\n",
       "    </tr>\n",
       "    <tr>\n",
       "      <th>7</th>\n",
       "      <td>0.125</td>\n",
       "      <td>(green, red)</td>\n",
       "    </tr>\n",
       "    <tr>\n",
       "      <th>8</th>\n",
       "      <td>0.125</td>\n",
       "      <td>(orange, red)</td>\n",
       "    </tr>\n",
       "    <tr>\n",
       "      <th>10</th>\n",
       "      <td>0.125</td>\n",
       "      <td>(white, green)</td>\n",
       "    </tr>\n",
       "    <tr>\n",
       "      <th>13</th>\n",
       "      <td>0.125</td>\n",
       "      <td>(white, green, red)</td>\n",
       "    </tr>\n",
       "    <tr>\n",
       "      <th>14</th>\n",
       "      <td>0.125</td>\n",
       "      <td>(white, orange, red)</td>\n",
       "    </tr>\n",
       "    <tr>\n",
       "      <th>15</th>\n",
       "      <td>0.125</td>\n",
       "      <td>(white, blue, red)</td>\n",
       "    </tr>\n",
       "  </tbody>\n",
       "</table>\n",
       "</div>"
      ],
      "text/plain": [
       "    support              itemsets\n",
       "1     0.625               (white)\n",
       "0     0.500                 (red)\n",
       "5     0.375                (blue)\n",
       "6     0.375          (white, red)\n",
       "2     0.250               (green)\n",
       "4     0.250              (orange)\n",
       "9     0.250           (blue, red)\n",
       "11    0.250       (white, orange)\n",
       "12    0.250         (white, blue)\n",
       "3     0.125              (yellow)\n",
       "7     0.125          (green, red)\n",
       "8     0.125         (orange, red)\n",
       "10    0.125        (white, green)\n",
       "13    0.125   (white, green, red)\n",
       "14    0.125  (white, orange, red)\n",
       "15    0.125    (white, blue, red)"
      ]
     },
     "execution_count": 43,
     "metadata": {},
     "output_type": "execute_result"
    }
   ],
   "source": [
    "frequent_item"
   ]
  },
  {
   "cell_type": "code",
   "execution_count": 44,
   "id": "4c8f6987",
   "metadata": {},
   "outputs": [],
   "source": [
    "# imported mlxtend to use association_rule algorithm\n",
    "rule = association_rules(frequent_item, metric = 'lift', min_threshold  = 1)"
   ]
  },
  {
   "cell_type": "code",
   "execution_count": 45,
   "id": "8c968105",
   "metadata": {},
   "outputs": [
    {
     "data": {
      "text/html": [
       "<div>\n",
       "<style scoped>\n",
       "    .dataframe tbody tr th:only-of-type {\n",
       "        vertical-align: middle;\n",
       "    }\n",
       "\n",
       "    .dataframe tbody tr th {\n",
       "        vertical-align: top;\n",
       "    }\n",
       "\n",
       "    .dataframe thead th {\n",
       "        text-align: right;\n",
       "    }\n",
       "</style>\n",
       "<table border=\"1\" class=\"dataframe\">\n",
       "  <thead>\n",
       "    <tr style=\"text-align: right;\">\n",
       "      <th></th>\n",
       "      <th>antecedents</th>\n",
       "      <th>consequents</th>\n",
       "      <th>antecedent support</th>\n",
       "      <th>consequent support</th>\n",
       "      <th>support</th>\n",
       "      <th>confidence</th>\n",
       "      <th>lift</th>\n",
       "      <th>leverage</th>\n",
       "      <th>conviction</th>\n",
       "    </tr>\n",
       "  </thead>\n",
       "  <tbody>\n",
       "    <tr>\n",
       "      <th>0</th>\n",
       "      <td>(white)</td>\n",
       "      <td>(red)</td>\n",
       "      <td>0.625</td>\n",
       "      <td>0.500</td>\n",
       "      <td>0.375</td>\n",
       "      <td>0.600000</td>\n",
       "      <td>1.200000</td>\n",
       "      <td>0.062500</td>\n",
       "      <td>1.250000</td>\n",
       "    </tr>\n",
       "    <tr>\n",
       "      <th>1</th>\n",
       "      <td>(red)</td>\n",
       "      <td>(white)</td>\n",
       "      <td>0.500</td>\n",
       "      <td>0.625</td>\n",
       "      <td>0.375</td>\n",
       "      <td>0.750000</td>\n",
       "      <td>1.200000</td>\n",
       "      <td>0.062500</td>\n",
       "      <td>1.500000</td>\n",
       "    </tr>\n",
       "    <tr>\n",
       "      <th>2</th>\n",
       "      <td>(blue)</td>\n",
       "      <td>(red)</td>\n",
       "      <td>0.375</td>\n",
       "      <td>0.500</td>\n",
       "      <td>0.250</td>\n",
       "      <td>0.666667</td>\n",
       "      <td>1.333333</td>\n",
       "      <td>0.062500</td>\n",
       "      <td>1.500000</td>\n",
       "    </tr>\n",
       "    <tr>\n",
       "      <th>3</th>\n",
       "      <td>(red)</td>\n",
       "      <td>(blue)</td>\n",
       "      <td>0.500</td>\n",
       "      <td>0.375</td>\n",
       "      <td>0.250</td>\n",
       "      <td>0.500000</td>\n",
       "      <td>1.333333</td>\n",
       "      <td>0.062500</td>\n",
       "      <td>1.250000</td>\n",
       "    </tr>\n",
       "    <tr>\n",
       "      <th>4</th>\n",
       "      <td>(white)</td>\n",
       "      <td>(orange)</td>\n",
       "      <td>0.625</td>\n",
       "      <td>0.250</td>\n",
       "      <td>0.250</td>\n",
       "      <td>0.400000</td>\n",
       "      <td>1.600000</td>\n",
       "      <td>0.093750</td>\n",
       "      <td>1.250000</td>\n",
       "    </tr>\n",
       "    <tr>\n",
       "      <th>5</th>\n",
       "      <td>(orange)</td>\n",
       "      <td>(white)</td>\n",
       "      <td>0.250</td>\n",
       "      <td>0.625</td>\n",
       "      <td>0.250</td>\n",
       "      <td>1.000000</td>\n",
       "      <td>1.600000</td>\n",
       "      <td>0.093750</td>\n",
       "      <td>inf</td>\n",
       "    </tr>\n",
       "    <tr>\n",
       "      <th>6</th>\n",
       "      <td>(white)</td>\n",
       "      <td>(blue)</td>\n",
       "      <td>0.625</td>\n",
       "      <td>0.375</td>\n",
       "      <td>0.250</td>\n",
       "      <td>0.400000</td>\n",
       "      <td>1.066667</td>\n",
       "      <td>0.015625</td>\n",
       "      <td>1.041667</td>\n",
       "    </tr>\n",
       "    <tr>\n",
       "      <th>7</th>\n",
       "      <td>(blue)</td>\n",
       "      <td>(white)</td>\n",
       "      <td>0.375</td>\n",
       "      <td>0.625</td>\n",
       "      <td>0.250</td>\n",
       "      <td>0.666667</td>\n",
       "      <td>1.066667</td>\n",
       "      <td>0.015625</td>\n",
       "      <td>1.125000</td>\n",
       "    </tr>\n",
       "    <tr>\n",
       "      <th>8</th>\n",
       "      <td>(green)</td>\n",
       "      <td>(red)</td>\n",
       "      <td>0.250</td>\n",
       "      <td>0.500</td>\n",
       "      <td>0.125</td>\n",
       "      <td>0.500000</td>\n",
       "      <td>1.000000</td>\n",
       "      <td>0.000000</td>\n",
       "      <td>1.000000</td>\n",
       "    </tr>\n",
       "    <tr>\n",
       "      <th>9</th>\n",
       "      <td>(red)</td>\n",
       "      <td>(green)</td>\n",
       "      <td>0.500</td>\n",
       "      <td>0.250</td>\n",
       "      <td>0.125</td>\n",
       "      <td>0.250000</td>\n",
       "      <td>1.000000</td>\n",
       "      <td>0.000000</td>\n",
       "      <td>1.000000</td>\n",
       "    </tr>\n",
       "    <tr>\n",
       "      <th>10</th>\n",
       "      <td>(orange)</td>\n",
       "      <td>(red)</td>\n",
       "      <td>0.250</td>\n",
       "      <td>0.500</td>\n",
       "      <td>0.125</td>\n",
       "      <td>0.500000</td>\n",
       "      <td>1.000000</td>\n",
       "      <td>0.000000</td>\n",
       "      <td>1.000000</td>\n",
       "    </tr>\n",
       "    <tr>\n",
       "      <th>11</th>\n",
       "      <td>(red)</td>\n",
       "      <td>(orange)</td>\n",
       "      <td>0.500</td>\n",
       "      <td>0.250</td>\n",
       "      <td>0.125</td>\n",
       "      <td>0.250000</td>\n",
       "      <td>1.000000</td>\n",
       "      <td>0.000000</td>\n",
       "      <td>1.000000</td>\n",
       "    </tr>\n",
       "    <tr>\n",
       "      <th>12</th>\n",
       "      <td>(white, green)</td>\n",
       "      <td>(red)</td>\n",
       "      <td>0.125</td>\n",
       "      <td>0.500</td>\n",
       "      <td>0.125</td>\n",
       "      <td>1.000000</td>\n",
       "      <td>2.000000</td>\n",
       "      <td>0.062500</td>\n",
       "      <td>inf</td>\n",
       "    </tr>\n",
       "    <tr>\n",
       "      <th>13</th>\n",
       "      <td>(white, red)</td>\n",
       "      <td>(green)</td>\n",
       "      <td>0.375</td>\n",
       "      <td>0.250</td>\n",
       "      <td>0.125</td>\n",
       "      <td>0.333333</td>\n",
       "      <td>1.333333</td>\n",
       "      <td>0.031250</td>\n",
       "      <td>1.125000</td>\n",
       "    </tr>\n",
       "    <tr>\n",
       "      <th>14</th>\n",
       "      <td>(green, red)</td>\n",
       "      <td>(white)</td>\n",
       "      <td>0.125</td>\n",
       "      <td>0.625</td>\n",
       "      <td>0.125</td>\n",
       "      <td>1.000000</td>\n",
       "      <td>1.600000</td>\n",
       "      <td>0.046875</td>\n",
       "      <td>inf</td>\n",
       "    </tr>\n",
       "    <tr>\n",
       "      <th>15</th>\n",
       "      <td>(white)</td>\n",
       "      <td>(green, red)</td>\n",
       "      <td>0.625</td>\n",
       "      <td>0.125</td>\n",
       "      <td>0.125</td>\n",
       "      <td>0.200000</td>\n",
       "      <td>1.600000</td>\n",
       "      <td>0.046875</td>\n",
       "      <td>1.093750</td>\n",
       "    </tr>\n",
       "    <tr>\n",
       "      <th>16</th>\n",
       "      <td>(green)</td>\n",
       "      <td>(white, red)</td>\n",
       "      <td>0.250</td>\n",
       "      <td>0.375</td>\n",
       "      <td>0.125</td>\n",
       "      <td>0.500000</td>\n",
       "      <td>1.333333</td>\n",
       "      <td>0.031250</td>\n",
       "      <td>1.250000</td>\n",
       "    </tr>\n",
       "    <tr>\n",
       "      <th>17</th>\n",
       "      <td>(red)</td>\n",
       "      <td>(white, green)</td>\n",
       "      <td>0.500</td>\n",
       "      <td>0.125</td>\n",
       "      <td>0.125</td>\n",
       "      <td>0.250000</td>\n",
       "      <td>2.000000</td>\n",
       "      <td>0.062500</td>\n",
       "      <td>1.166667</td>\n",
       "    </tr>\n",
       "    <tr>\n",
       "      <th>18</th>\n",
       "      <td>(white, orange)</td>\n",
       "      <td>(red)</td>\n",
       "      <td>0.250</td>\n",
       "      <td>0.500</td>\n",
       "      <td>0.125</td>\n",
       "      <td>0.500000</td>\n",
       "      <td>1.000000</td>\n",
       "      <td>0.000000</td>\n",
       "      <td>1.000000</td>\n",
       "    </tr>\n",
       "    <tr>\n",
       "      <th>19</th>\n",
       "      <td>(white, red)</td>\n",
       "      <td>(orange)</td>\n",
       "      <td>0.375</td>\n",
       "      <td>0.250</td>\n",
       "      <td>0.125</td>\n",
       "      <td>0.333333</td>\n",
       "      <td>1.333333</td>\n",
       "      <td>0.031250</td>\n",
       "      <td>1.125000</td>\n",
       "    </tr>\n",
       "    <tr>\n",
       "      <th>20</th>\n",
       "      <td>(orange, red)</td>\n",
       "      <td>(white)</td>\n",
       "      <td>0.125</td>\n",
       "      <td>0.625</td>\n",
       "      <td>0.125</td>\n",
       "      <td>1.000000</td>\n",
       "      <td>1.600000</td>\n",
       "      <td>0.046875</td>\n",
       "      <td>inf</td>\n",
       "    </tr>\n",
       "    <tr>\n",
       "      <th>21</th>\n",
       "      <td>(white)</td>\n",
       "      <td>(orange, red)</td>\n",
       "      <td>0.625</td>\n",
       "      <td>0.125</td>\n",
       "      <td>0.125</td>\n",
       "      <td>0.200000</td>\n",
       "      <td>1.600000</td>\n",
       "      <td>0.046875</td>\n",
       "      <td>1.093750</td>\n",
       "    </tr>\n",
       "    <tr>\n",
       "      <th>22</th>\n",
       "      <td>(orange)</td>\n",
       "      <td>(white, red)</td>\n",
       "      <td>0.250</td>\n",
       "      <td>0.375</td>\n",
       "      <td>0.125</td>\n",
       "      <td>0.500000</td>\n",
       "      <td>1.333333</td>\n",
       "      <td>0.031250</td>\n",
       "      <td>1.250000</td>\n",
       "    </tr>\n",
       "    <tr>\n",
       "      <th>23</th>\n",
       "      <td>(red)</td>\n",
       "      <td>(white, orange)</td>\n",
       "      <td>0.500</td>\n",
       "      <td>0.250</td>\n",
       "      <td>0.125</td>\n",
       "      <td>0.250000</td>\n",
       "      <td>1.000000</td>\n",
       "      <td>0.000000</td>\n",
       "      <td>1.000000</td>\n",
       "    </tr>\n",
       "    <tr>\n",
       "      <th>24</th>\n",
       "      <td>(white, blue)</td>\n",
       "      <td>(red)</td>\n",
       "      <td>0.250</td>\n",
       "      <td>0.500</td>\n",
       "      <td>0.125</td>\n",
       "      <td>0.500000</td>\n",
       "      <td>1.000000</td>\n",
       "      <td>0.000000</td>\n",
       "      <td>1.000000</td>\n",
       "    </tr>\n",
       "    <tr>\n",
       "      <th>25</th>\n",
       "      <td>(red)</td>\n",
       "      <td>(white, blue)</td>\n",
       "      <td>0.500</td>\n",
       "      <td>0.250</td>\n",
       "      <td>0.125</td>\n",
       "      <td>0.250000</td>\n",
       "      <td>1.000000</td>\n",
       "      <td>0.000000</td>\n",
       "      <td>1.000000</td>\n",
       "    </tr>\n",
       "  </tbody>\n",
       "</table>\n",
       "</div>"
      ],
      "text/plain": [
       "        antecedents      consequents  antecedent support  consequent support  \\\n",
       "0           (white)            (red)               0.625               0.500   \n",
       "1             (red)          (white)               0.500               0.625   \n",
       "2            (blue)            (red)               0.375               0.500   \n",
       "3             (red)           (blue)               0.500               0.375   \n",
       "4           (white)         (orange)               0.625               0.250   \n",
       "5          (orange)          (white)               0.250               0.625   \n",
       "6           (white)           (blue)               0.625               0.375   \n",
       "7            (blue)          (white)               0.375               0.625   \n",
       "8           (green)            (red)               0.250               0.500   \n",
       "9             (red)          (green)               0.500               0.250   \n",
       "10         (orange)            (red)               0.250               0.500   \n",
       "11            (red)         (orange)               0.500               0.250   \n",
       "12   (white, green)            (red)               0.125               0.500   \n",
       "13     (white, red)          (green)               0.375               0.250   \n",
       "14     (green, red)          (white)               0.125               0.625   \n",
       "15          (white)     (green, red)               0.625               0.125   \n",
       "16          (green)     (white, red)               0.250               0.375   \n",
       "17            (red)   (white, green)               0.500               0.125   \n",
       "18  (white, orange)            (red)               0.250               0.500   \n",
       "19     (white, red)         (orange)               0.375               0.250   \n",
       "20    (orange, red)          (white)               0.125               0.625   \n",
       "21          (white)    (orange, red)               0.625               0.125   \n",
       "22         (orange)     (white, red)               0.250               0.375   \n",
       "23            (red)  (white, orange)               0.500               0.250   \n",
       "24    (white, blue)            (red)               0.250               0.500   \n",
       "25            (red)    (white, blue)               0.500               0.250   \n",
       "\n",
       "    support  confidence      lift  leverage  conviction  \n",
       "0     0.375    0.600000  1.200000  0.062500    1.250000  \n",
       "1     0.375    0.750000  1.200000  0.062500    1.500000  \n",
       "2     0.250    0.666667  1.333333  0.062500    1.500000  \n",
       "3     0.250    0.500000  1.333333  0.062500    1.250000  \n",
       "4     0.250    0.400000  1.600000  0.093750    1.250000  \n",
       "5     0.250    1.000000  1.600000  0.093750         inf  \n",
       "6     0.250    0.400000  1.066667  0.015625    1.041667  \n",
       "7     0.250    0.666667  1.066667  0.015625    1.125000  \n",
       "8     0.125    0.500000  1.000000  0.000000    1.000000  \n",
       "9     0.125    0.250000  1.000000  0.000000    1.000000  \n",
       "10    0.125    0.500000  1.000000  0.000000    1.000000  \n",
       "11    0.125    0.250000  1.000000  0.000000    1.000000  \n",
       "12    0.125    1.000000  2.000000  0.062500         inf  \n",
       "13    0.125    0.333333  1.333333  0.031250    1.125000  \n",
       "14    0.125    1.000000  1.600000  0.046875         inf  \n",
       "15    0.125    0.200000  1.600000  0.046875    1.093750  \n",
       "16    0.125    0.500000  1.333333  0.031250    1.250000  \n",
       "17    0.125    0.250000  2.000000  0.062500    1.166667  \n",
       "18    0.125    0.500000  1.000000  0.000000    1.000000  \n",
       "19    0.125    0.333333  1.333333  0.031250    1.125000  \n",
       "20    0.125    1.000000  1.600000  0.046875         inf  \n",
       "21    0.125    0.200000  1.600000  0.046875    1.093750  \n",
       "22    0.125    0.500000  1.333333  0.031250    1.250000  \n",
       "23    0.125    0.250000  1.000000  0.000000    1.000000  \n",
       "24    0.125    0.500000  1.000000  0.000000    1.000000  \n",
       "25    0.125    0.250000  1.000000  0.000000    1.000000  "
      ]
     },
     "execution_count": 45,
     "metadata": {},
     "output_type": "execute_result"
    }
   ],
   "source": [
    "rule"
   ]
  },
  {
   "cell_type": "code",
   "execution_count": 46,
   "id": "ad94a01f",
   "metadata": {},
   "outputs": [
    {
     "data": {
      "text/html": [
       "<div>\n",
       "<style scoped>\n",
       "    .dataframe tbody tr th:only-of-type {\n",
       "        vertical-align: middle;\n",
       "    }\n",
       "\n",
       "    .dataframe tbody tr th {\n",
       "        vertical-align: top;\n",
       "    }\n",
       "\n",
       "    .dataframe thead th {\n",
       "        text-align: right;\n",
       "    }\n",
       "</style>\n",
       "<table border=\"1\" class=\"dataframe\">\n",
       "  <thead>\n",
       "    <tr style=\"text-align: right;\">\n",
       "      <th></th>\n",
       "      <th>antecedents</th>\n",
       "      <th>consequents</th>\n",
       "      <th>antecedent support</th>\n",
       "      <th>consequent support</th>\n",
       "      <th>support</th>\n",
       "      <th>confidence</th>\n",
       "      <th>lift</th>\n",
       "      <th>leverage</th>\n",
       "      <th>conviction</th>\n",
       "    </tr>\n",
       "  </thead>\n",
       "  <tbody>\n",
       "    <tr>\n",
       "      <th>17</th>\n",
       "      <td>(red)</td>\n",
       "      <td>(white, green)</td>\n",
       "      <td>0.500</td>\n",
       "      <td>0.125</td>\n",
       "      <td>0.125</td>\n",
       "      <td>0.250000</td>\n",
       "      <td>2.000000</td>\n",
       "      <td>0.062500</td>\n",
       "      <td>1.166667</td>\n",
       "    </tr>\n",
       "    <tr>\n",
       "      <th>12</th>\n",
       "      <td>(white, green)</td>\n",
       "      <td>(red)</td>\n",
       "      <td>0.125</td>\n",
       "      <td>0.500</td>\n",
       "      <td>0.125</td>\n",
       "      <td>1.000000</td>\n",
       "      <td>2.000000</td>\n",
       "      <td>0.062500</td>\n",
       "      <td>inf</td>\n",
       "    </tr>\n",
       "    <tr>\n",
       "      <th>14</th>\n",
       "      <td>(green, red)</td>\n",
       "      <td>(white)</td>\n",
       "      <td>0.125</td>\n",
       "      <td>0.625</td>\n",
       "      <td>0.125</td>\n",
       "      <td>1.000000</td>\n",
       "      <td>1.600000</td>\n",
       "      <td>0.046875</td>\n",
       "      <td>inf</td>\n",
       "    </tr>\n",
       "    <tr>\n",
       "      <th>4</th>\n",
       "      <td>(white)</td>\n",
       "      <td>(orange)</td>\n",
       "      <td>0.625</td>\n",
       "      <td>0.250</td>\n",
       "      <td>0.250</td>\n",
       "      <td>0.400000</td>\n",
       "      <td>1.600000</td>\n",
       "      <td>0.093750</td>\n",
       "      <td>1.250000</td>\n",
       "    </tr>\n",
       "    <tr>\n",
       "      <th>5</th>\n",
       "      <td>(orange)</td>\n",
       "      <td>(white)</td>\n",
       "      <td>0.250</td>\n",
       "      <td>0.625</td>\n",
       "      <td>0.250</td>\n",
       "      <td>1.000000</td>\n",
       "      <td>1.600000</td>\n",
       "      <td>0.093750</td>\n",
       "      <td>inf</td>\n",
       "    </tr>\n",
       "    <tr>\n",
       "      <th>21</th>\n",
       "      <td>(white)</td>\n",
       "      <td>(orange, red)</td>\n",
       "      <td>0.625</td>\n",
       "      <td>0.125</td>\n",
       "      <td>0.125</td>\n",
       "      <td>0.200000</td>\n",
       "      <td>1.600000</td>\n",
       "      <td>0.046875</td>\n",
       "      <td>1.093750</td>\n",
       "    </tr>\n",
       "    <tr>\n",
       "      <th>20</th>\n",
       "      <td>(orange, red)</td>\n",
       "      <td>(white)</td>\n",
       "      <td>0.125</td>\n",
       "      <td>0.625</td>\n",
       "      <td>0.125</td>\n",
       "      <td>1.000000</td>\n",
       "      <td>1.600000</td>\n",
       "      <td>0.046875</td>\n",
       "      <td>inf</td>\n",
       "    </tr>\n",
       "    <tr>\n",
       "      <th>15</th>\n",
       "      <td>(white)</td>\n",
       "      <td>(green, red)</td>\n",
       "      <td>0.625</td>\n",
       "      <td>0.125</td>\n",
       "      <td>0.125</td>\n",
       "      <td>0.200000</td>\n",
       "      <td>1.600000</td>\n",
       "      <td>0.046875</td>\n",
       "      <td>1.093750</td>\n",
       "    </tr>\n",
       "    <tr>\n",
       "      <th>13</th>\n",
       "      <td>(white, red)</td>\n",
       "      <td>(green)</td>\n",
       "      <td>0.375</td>\n",
       "      <td>0.250</td>\n",
       "      <td>0.125</td>\n",
       "      <td>0.333333</td>\n",
       "      <td>1.333333</td>\n",
       "      <td>0.031250</td>\n",
       "      <td>1.125000</td>\n",
       "    </tr>\n",
       "    <tr>\n",
       "      <th>2</th>\n",
       "      <td>(blue)</td>\n",
       "      <td>(red)</td>\n",
       "      <td>0.375</td>\n",
       "      <td>0.500</td>\n",
       "      <td>0.250</td>\n",
       "      <td>0.666667</td>\n",
       "      <td>1.333333</td>\n",
       "      <td>0.062500</td>\n",
       "      <td>1.500000</td>\n",
       "    </tr>\n",
       "  </tbody>\n",
       "</table>\n",
       "</div>"
      ],
      "text/plain": [
       "       antecedents     consequents  antecedent support  consequent support  \\\n",
       "17           (red)  (white, green)               0.500               0.125   \n",
       "12  (white, green)           (red)               0.125               0.500   \n",
       "14    (green, red)         (white)               0.125               0.625   \n",
       "4          (white)        (orange)               0.625               0.250   \n",
       "5         (orange)         (white)               0.250               0.625   \n",
       "21         (white)   (orange, red)               0.625               0.125   \n",
       "20   (orange, red)         (white)               0.125               0.625   \n",
       "15         (white)    (green, red)               0.625               0.125   \n",
       "13    (white, red)         (green)               0.375               0.250   \n",
       "2           (blue)           (red)               0.375               0.500   \n",
       "\n",
       "    support  confidence      lift  leverage  conviction  \n",
       "17    0.125    0.250000  2.000000  0.062500    1.166667  \n",
       "12    0.125    1.000000  2.000000  0.062500         inf  \n",
       "14    0.125    1.000000  1.600000  0.046875         inf  \n",
       "4     0.250    0.400000  1.600000  0.093750    1.250000  \n",
       "5     0.250    1.000000  1.600000  0.093750         inf  \n",
       "21    0.125    0.200000  1.600000  0.046875    1.093750  \n",
       "20    0.125    1.000000  1.600000  0.046875         inf  \n",
       "15    0.125    0.200000  1.600000  0.046875    1.093750  \n",
       "13    0.125    0.333333  1.333333  0.031250    1.125000  \n",
       "2     0.250    0.666667  1.333333  0.062500    1.500000  "
      ]
     },
     "execution_count": 46,
     "metadata": {},
     "output_type": "execute_result"
    }
   ],
   "source": [
    "rule.sort_values('lift', ascending = False).head(10)"
   ]
  },
  {
   "cell_type": "code",
   "execution_count": null,
   "id": "7b65d8d7",
   "metadata": {},
   "outputs": [],
   "source": []
  },
  {
   "cell_type": "code",
   "execution_count": null,
   "id": "018cd3c0",
   "metadata": {},
   "outputs": [],
   "source": []
  }
 ],
 "metadata": {
  "kernelspec": {
   "display_name": "Python 3 (ipykernel)",
   "language": "python",
   "name": "python3"
  },
  "language_info": {
   "codemirror_mode": {
    "name": "ipython",
    "version": 3
   },
   "file_extension": ".py",
   "mimetype": "text/x-python",
   "name": "python",
   "nbconvert_exporter": "python",
   "pygments_lexer": "ipython3",
   "version": "3.9.13"
  }
 },
 "nbformat": 4,
 "nbformat_minor": 5
}
