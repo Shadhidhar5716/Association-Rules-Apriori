{
 "cells": [
  {
   "cell_type": "code",
   "execution_count": 2,
   "id": "af8d0b19",
   "metadata": {},
   "outputs": [],
   "source": [
    "# Importing libraries \n",
    "\n",
    "import pandas as pd\n",
    "import numpy as np\n",
    "import matplotlib.pyplot as plt\n",
    "import seaborn as sns\n",
    "from mlxtend.frequent_patterns import apriori, association_rules\n",
    "from mlxtend.preprocessing import TransactionEncoder"
   ]
  },
  {
   "cell_type": "code",
   "execution_count": 37,
   "id": "6f544f85",
   "metadata": {},
   "outputs": [],
   "source": [
    "# Loading and reading the csv file\n",
    "\n",
    "data = pd.read_csv(r\"C:\\Users\\Shashi\\Unsupervised Learning or Descriptive Model\\Association Rules\\book.csv\")"
   ]
  },
  {
   "cell_type": "code",
   "execution_count": 4,
   "id": "dd5aa4eb",
   "metadata": {
    "scrolled": true
   },
   "outputs": [
    {
     "data": {
      "text/html": [
       "<div>\n",
       "<style scoped>\n",
       "    .dataframe tbody tr th:only-of-type {\n",
       "        vertical-align: middle;\n",
       "    }\n",
       "\n",
       "    .dataframe tbody tr th {\n",
       "        vertical-align: top;\n",
       "    }\n",
       "\n",
       "    .dataframe thead th {\n",
       "        text-align: right;\n",
       "    }\n",
       "</style>\n",
       "<table border=\"1\" class=\"dataframe\">\n",
       "  <thead>\n",
       "    <tr style=\"text-align: right;\">\n",
       "      <th></th>\n",
       "      <th>ChildBks</th>\n",
       "      <th>YouthBks</th>\n",
       "      <th>CookBks</th>\n",
       "      <th>DoItYBks</th>\n",
       "      <th>RefBks</th>\n",
       "      <th>ArtBks</th>\n",
       "      <th>GeogBks</th>\n",
       "      <th>ItalCook</th>\n",
       "      <th>ItalAtlas</th>\n",
       "      <th>ItalArt</th>\n",
       "      <th>Florence</th>\n",
       "    </tr>\n",
       "  </thead>\n",
       "  <tbody>\n",
       "    <tr>\n",
       "      <th>0</th>\n",
       "      <td>0</td>\n",
       "      <td>1</td>\n",
       "      <td>0</td>\n",
       "      <td>1</td>\n",
       "      <td>0</td>\n",
       "      <td>0</td>\n",
       "      <td>1</td>\n",
       "      <td>0</td>\n",
       "      <td>0</td>\n",
       "      <td>0</td>\n",
       "      <td>0</td>\n",
       "    </tr>\n",
       "    <tr>\n",
       "      <th>1</th>\n",
       "      <td>1</td>\n",
       "      <td>0</td>\n",
       "      <td>0</td>\n",
       "      <td>0</td>\n",
       "      <td>0</td>\n",
       "      <td>0</td>\n",
       "      <td>0</td>\n",
       "      <td>0</td>\n",
       "      <td>0</td>\n",
       "      <td>0</td>\n",
       "      <td>0</td>\n",
       "    </tr>\n",
       "    <tr>\n",
       "      <th>2</th>\n",
       "      <td>0</td>\n",
       "      <td>0</td>\n",
       "      <td>0</td>\n",
       "      <td>0</td>\n",
       "      <td>0</td>\n",
       "      <td>0</td>\n",
       "      <td>0</td>\n",
       "      <td>0</td>\n",
       "      <td>0</td>\n",
       "      <td>0</td>\n",
       "      <td>0</td>\n",
       "    </tr>\n",
       "    <tr>\n",
       "      <th>3</th>\n",
       "      <td>1</td>\n",
       "      <td>1</td>\n",
       "      <td>1</td>\n",
       "      <td>0</td>\n",
       "      <td>1</td>\n",
       "      <td>0</td>\n",
       "      <td>1</td>\n",
       "      <td>0</td>\n",
       "      <td>0</td>\n",
       "      <td>0</td>\n",
       "      <td>0</td>\n",
       "    </tr>\n",
       "    <tr>\n",
       "      <th>4</th>\n",
       "      <td>0</td>\n",
       "      <td>0</td>\n",
       "      <td>1</td>\n",
       "      <td>0</td>\n",
       "      <td>0</td>\n",
       "      <td>0</td>\n",
       "      <td>1</td>\n",
       "      <td>0</td>\n",
       "      <td>0</td>\n",
       "      <td>0</td>\n",
       "      <td>0</td>\n",
       "    </tr>\n",
       "  </tbody>\n",
       "</table>\n",
       "</div>"
      ],
      "text/plain": [
       "   ChildBks  YouthBks  CookBks  DoItYBks  RefBks  ArtBks  GeogBks  ItalCook  \\\n",
       "0         0         1        0         1       0       0        1         0   \n",
       "1         1         0        0         0       0       0        0         0   \n",
       "2         0         0        0         0       0       0        0         0   \n",
       "3         1         1        1         0       1       0        1         0   \n",
       "4         0         0        1         0       0       0        1         0   \n",
       "\n",
       "   ItalAtlas  ItalArt  Florence  \n",
       "0          0        0         0  \n",
       "1          0        0         0  \n",
       "2          0        0         0  \n",
       "3          0        0         0  \n",
       "4          0        0         0  "
      ]
     },
     "execution_count": 4,
     "metadata": {},
     "output_type": "execute_result"
    }
   ],
   "source": [
    "# Checking the head of data which give top 5 row values\n",
    "\n",
    "data.head()"
   ]
  },
  {
   "cell_type": "code",
   "execution_count": 6,
   "id": "2eaed99d",
   "metadata": {
    "scrolled": true
   },
   "outputs": [
    {
     "data": {
      "text/plain": [
       "(2000, 11)"
      ]
     },
     "execution_count": 6,
     "metadata": {},
     "output_type": "execute_result"
    }
   ],
   "source": [
    "# Checking the data shape means how many rows and columns\n",
    "\n",
    "data.shape"
   ]
  },
  {
   "cell_type": "code",
   "execution_count": 7,
   "id": "86fc89ec",
   "metadata": {},
   "outputs": [
    {
     "data": {
      "text/plain": [
       "ChildBks     0.4230\n",
       "YouthBks     0.2475\n",
       "CookBks      0.4310\n",
       "DoItYBks     0.2820\n",
       "RefBks       0.2145\n",
       "ArtBks       0.2410\n",
       "GeogBks      0.2760\n",
       "ItalCook     0.1135\n",
       "ItalAtlas    0.0370\n",
       "ItalArt      0.0485\n",
       "Florence     0.1085\n",
       "dtype: float64"
      ]
     },
     "execution_count": 7,
     "metadata": {},
     "output_type": "execute_result"
    }
   ],
   "source": [
    "# 1st Business Moment : Measures of Central Tendency\n",
    "# Checking Mean, Mode, Median of the data\n",
    "\n",
    "data.mean()"
   ]
  },
  {
   "cell_type": "code",
   "execution_count": 8,
   "id": "7bff6197",
   "metadata": {},
   "outputs": [
    {
     "data": {
      "text/html": [
       "<div>\n",
       "<style scoped>\n",
       "    .dataframe tbody tr th:only-of-type {\n",
       "        vertical-align: middle;\n",
       "    }\n",
       "\n",
       "    .dataframe tbody tr th {\n",
       "        vertical-align: top;\n",
       "    }\n",
       "\n",
       "    .dataframe thead th {\n",
       "        text-align: right;\n",
       "    }\n",
       "</style>\n",
       "<table border=\"1\" class=\"dataframe\">\n",
       "  <thead>\n",
       "    <tr style=\"text-align: right;\">\n",
       "      <th></th>\n",
       "      <th>ChildBks</th>\n",
       "      <th>YouthBks</th>\n",
       "      <th>CookBks</th>\n",
       "      <th>DoItYBks</th>\n",
       "      <th>RefBks</th>\n",
       "      <th>ArtBks</th>\n",
       "      <th>GeogBks</th>\n",
       "      <th>ItalCook</th>\n",
       "      <th>ItalAtlas</th>\n",
       "      <th>ItalArt</th>\n",
       "      <th>Florence</th>\n",
       "    </tr>\n",
       "  </thead>\n",
       "  <tbody>\n",
       "    <tr>\n",
       "      <th>0</th>\n",
       "      <td>0</td>\n",
       "      <td>0</td>\n",
       "      <td>0</td>\n",
       "      <td>0</td>\n",
       "      <td>0</td>\n",
       "      <td>0</td>\n",
       "      <td>0</td>\n",
       "      <td>0</td>\n",
       "      <td>0</td>\n",
       "      <td>0</td>\n",
       "      <td>0</td>\n",
       "    </tr>\n",
       "  </tbody>\n",
       "</table>\n",
       "</div>"
      ],
      "text/plain": [
       "   ChildBks  YouthBks  CookBks  DoItYBks  RefBks  ArtBks  GeogBks  ItalCook  \\\n",
       "0         0         0        0         0       0       0        0         0   \n",
       "\n",
       "   ItalAtlas  ItalArt  Florence  \n",
       "0          0        0         0  "
      ]
     },
     "execution_count": 8,
     "metadata": {},
     "output_type": "execute_result"
    }
   ],
   "source": [
    "data.mode()"
   ]
  },
  {
   "cell_type": "code",
   "execution_count": 9,
   "id": "e42c54b9",
   "metadata": {},
   "outputs": [
    {
     "data": {
      "text/plain": [
       "ChildBks     0.0\n",
       "YouthBks     0.0\n",
       "CookBks      0.0\n",
       "DoItYBks     0.0\n",
       "RefBks       0.0\n",
       "ArtBks       0.0\n",
       "GeogBks      0.0\n",
       "ItalCook     0.0\n",
       "ItalAtlas    0.0\n",
       "ItalArt      0.0\n",
       "Florence     0.0\n",
       "dtype: float64"
      ]
     },
     "execution_count": 9,
     "metadata": {},
     "output_type": "execute_result"
    }
   ],
   "source": [
    "data.median()"
   ]
  },
  {
   "cell_type": "code",
   "execution_count": 10,
   "id": "d412a25c",
   "metadata": {},
   "outputs": [
    {
     "data": {
      "text/plain": [
       "ChildBks     0.244193\n",
       "YouthBks     0.186337\n",
       "CookBks      0.245362\n",
       "DoItYBks     0.202577\n",
       "RefBks       0.168574\n",
       "ArtBks       0.183011\n",
       "GeogBks      0.199924\n",
       "ItalCook     0.100668\n",
       "ItalAtlas    0.035649\n",
       "ItalArt      0.046171\n",
       "Florence     0.096776\n",
       "dtype: float64"
      ]
     },
     "execution_count": 10,
     "metadata": {},
     "output_type": "execute_result"
    }
   ],
   "source": [
    "# 2nd Business Moment : Measures of Dispercation\n",
    "# Checking the Variance & Standard Devation\n",
    "\n",
    "data.var()"
   ]
  },
  {
   "cell_type": "code",
   "execution_count": 11,
   "id": "d614ed05",
   "metadata": {},
   "outputs": [
    {
     "data": {
      "text/plain": [
       "ChildBks     0.494159\n",
       "YouthBks     0.431668\n",
       "CookBks      0.495340\n",
       "DoItYBks     0.450086\n",
       "RefBks       0.410578\n",
       "ArtBks       0.427797\n",
       "GeogBks      0.447129\n",
       "ItalCook     0.317282\n",
       "ItalAtlas    0.188809\n",
       "ItalArt      0.214874\n",
       "Florence     0.311089\n",
       "dtype: float64"
      ]
     },
     "execution_count": 11,
     "metadata": {},
     "output_type": "execute_result"
    }
   ],
   "source": [
    "data.std()"
   ]
  },
  {
   "cell_type": "code",
   "execution_count": 12,
   "id": "e80105dd",
   "metadata": {},
   "outputs": [
    {
     "data": {
      "text/plain": [
       "ChildBks     0.311953\n",
       "YouthBks     1.171053\n",
       "CookBks      0.278875\n",
       "DoItYBks     0.969674\n",
       "RefBks       1.392116\n",
       "ArtBks       1.212066\n",
       "GeogBks      1.002952\n",
       "ItalCook     2.438755\n",
       "ItalAtlas    4.909338\n",
       "ItalArt      4.206670\n",
       "Florence     2.519487\n",
       "dtype: float64"
      ]
     },
     "execution_count": 12,
     "metadata": {},
     "output_type": "execute_result"
    }
   ],
   "source": [
    "# 3rd Business Moment : Measures of Skewness\n",
    "\n",
    "data.skew()"
   ]
  },
  {
   "cell_type": "code",
   "execution_count": 13,
   "id": "43ced793",
   "metadata": {},
   "outputs": [
    {
     "data": {
      "text/plain": [
       "ChildBks     -1.904591\n",
       "YouthBks     -0.629266\n",
       "CookBks      -1.924154\n",
       "DoItYBks     -1.060795\n",
       "RefBks       -0.062077\n",
       "ArtBks       -0.531428\n",
       "GeogBks      -0.995084\n",
       "ItalCook      3.951475\n",
       "ItalAtlas    22.123718\n",
       "ItalArt      15.711779\n",
       "Florence      4.352166\n",
       "dtype: float64"
      ]
     },
     "execution_count": 13,
     "metadata": {},
     "output_type": "execute_result"
    }
   ],
   "source": [
    "# 4th Business Moment : Measures of Kurtisos\n",
    "\n",
    "data.kurt()"
   ]
  },
  {
   "cell_type": "code",
   "execution_count": 14,
   "id": "0440eacf",
   "metadata": {},
   "outputs": [
    {
     "data": {
      "text/plain": [
       "{'whiskers': [<matplotlib.lines.Line2D at 0x1d13c0d7250>,\n",
       "  <matplotlib.lines.Line2D at 0x1d13c0d7520>,\n",
       "  <matplotlib.lines.Line2D at 0x1d13c0e8670>,\n",
       "  <matplotlib.lines.Line2D at 0x1d13c0e8940>,\n",
       "  <matplotlib.lines.Line2D at 0x1d13c794a60>,\n",
       "  <matplotlib.lines.Line2D at 0x1d13c794d30>,\n",
       "  <matplotlib.lines.Line2D at 0x1d13c79ce50>,\n",
       "  <matplotlib.lines.Line2D at 0x1d13c7a7160>,\n",
       "  <matplotlib.lines.Line2D at 0x1d13c7b1280>,\n",
       "  <matplotlib.lines.Line2D at 0x1d13c7b1550>,\n",
       "  <matplotlib.lines.Line2D at 0x1d13c7be670>,\n",
       "  <matplotlib.lines.Line2D at 0x1d13c7be940>,\n",
       "  <matplotlib.lines.Line2D at 0x1d13c7c9a60>,\n",
       "  <matplotlib.lines.Line2D at 0x1d13c7c9d30>,\n",
       "  <matplotlib.lines.Line2D at 0x1d13c7d6e50>,\n",
       "  <matplotlib.lines.Line2D at 0x1d13c7e4160>,\n",
       "  <matplotlib.lines.Line2D at 0x1d13c7ec280>,\n",
       "  <matplotlib.lines.Line2D at 0x1d13c7ec550>,\n",
       "  <matplotlib.lines.Line2D at 0x1d13c7fe670>,\n",
       "  <matplotlib.lines.Line2D at 0x1d13c7fe940>,\n",
       "  <matplotlib.lines.Line2D at 0x1d13c809a60>,\n",
       "  <matplotlib.lines.Line2D at 0x1d13c809d30>],\n",
       " 'caps': [<matplotlib.lines.Line2D at 0x1d13c0d77f0>,\n",
       "  <matplotlib.lines.Line2D at 0x1d13c0d7ac0>,\n",
       "  <matplotlib.lines.Line2D at 0x1d13c0e8c10>,\n",
       "  <matplotlib.lines.Line2D at 0x1d13c0e8ee0>,\n",
       "  <matplotlib.lines.Line2D at 0x1d13c79c040>,\n",
       "  <matplotlib.lines.Line2D at 0x1d13c79c310>,\n",
       "  <matplotlib.lines.Line2D at 0x1d13c7a7430>,\n",
       "  <matplotlib.lines.Line2D at 0x1d13c7a7700>,\n",
       "  <matplotlib.lines.Line2D at 0x1d13c7b1820>,\n",
       "  <matplotlib.lines.Line2D at 0x1d13c7b1af0>,\n",
       "  <matplotlib.lines.Line2D at 0x1d13c7bec10>,\n",
       "  <matplotlib.lines.Line2D at 0x1d13c7beee0>,\n",
       "  <matplotlib.lines.Line2D at 0x1d13c7d6040>,\n",
       "  <matplotlib.lines.Line2D at 0x1d13c7d6310>,\n",
       "  <matplotlib.lines.Line2D at 0x1d13c7e4430>,\n",
       "  <matplotlib.lines.Line2D at 0x1d13c7e4700>,\n",
       "  <matplotlib.lines.Line2D at 0x1d13c7ec820>,\n",
       "  <matplotlib.lines.Line2D at 0x1d13c7ecaf0>,\n",
       "  <matplotlib.lines.Line2D at 0x1d13c7fec10>,\n",
       "  <matplotlib.lines.Line2D at 0x1d13c7feee0>,\n",
       "  <matplotlib.lines.Line2D at 0x1d13c814040>,\n",
       "  <matplotlib.lines.Line2D at 0x1d13c814310>],\n",
       " 'boxes': [<matplotlib.lines.Line2D at 0x1d13c0bff40>,\n",
       "  <matplotlib.lines.Line2D at 0x1d13c0e83a0>,\n",
       "  <matplotlib.lines.Line2D at 0x1d13c794790>,\n",
       "  <matplotlib.lines.Line2D at 0x1d13c79cb80>,\n",
       "  <matplotlib.lines.Line2D at 0x1d13c7a7f70>,\n",
       "  <matplotlib.lines.Line2D at 0x1d13c7be3a0>,\n",
       "  <matplotlib.lines.Line2D at 0x1d13c7c9790>,\n",
       "  <matplotlib.lines.Line2D at 0x1d13c7d6b80>,\n",
       "  <matplotlib.lines.Line2D at 0x1d13c7e4f70>,\n",
       "  <matplotlib.lines.Line2D at 0x1d13c7fe3a0>,\n",
       "  <matplotlib.lines.Line2D at 0x1d13c809790>],\n",
       " 'medians': [<matplotlib.lines.Line2D at 0x1d13c0d7d90>,\n",
       "  <matplotlib.lines.Line2D at 0x1d13c7941f0>,\n",
       "  <matplotlib.lines.Line2D at 0x1d13c79c5e0>,\n",
       "  <matplotlib.lines.Line2D at 0x1d13c7a79d0>,\n",
       "  <matplotlib.lines.Line2D at 0x1d13c7b1dc0>,\n",
       "  <matplotlib.lines.Line2D at 0x1d13c7c91f0>,\n",
       "  <matplotlib.lines.Line2D at 0x1d13c7d65e0>,\n",
       "  <matplotlib.lines.Line2D at 0x1d13c7e49d0>,\n",
       "  <matplotlib.lines.Line2D at 0x1d13c7ecdc0>,\n",
       "  <matplotlib.lines.Line2D at 0x1d13c8091f0>,\n",
       "  <matplotlib.lines.Line2D at 0x1d13c8145e0>],\n",
       " 'fliers': [<matplotlib.lines.Line2D at 0x1d13c0e80a0>,\n",
       "  <matplotlib.lines.Line2D at 0x1d13c7944c0>,\n",
       "  <matplotlib.lines.Line2D at 0x1d13c79c8b0>,\n",
       "  <matplotlib.lines.Line2D at 0x1d13c7a7ca0>,\n",
       "  <matplotlib.lines.Line2D at 0x1d13c7be0d0>,\n",
       "  <matplotlib.lines.Line2D at 0x1d13c7c94c0>,\n",
       "  <matplotlib.lines.Line2D at 0x1d13c7d68b0>,\n",
       "  <matplotlib.lines.Line2D at 0x1d13c7e4ca0>,\n",
       "  <matplotlib.lines.Line2D at 0x1d13c7fe0d0>,\n",
       "  <matplotlib.lines.Line2D at 0x1d13c8094c0>,\n",
       "  <matplotlib.lines.Line2D at 0x1d13c8148b0>],\n",
       " 'means': []}"
      ]
     },
     "execution_count": 14,
     "metadata": {},
     "output_type": "execute_result"
    },
    {
     "data": {
      "image/png": "[encoded data removed]",
      "text/plain": [
       "<Figure size 640x480 with 1 Axes>"
      ]
     },
     "metadata": {},
     "output_type": "display_data"
    }
   ],
   "source": [
    "# Checking Outliers in data\n",
    "\n",
    "plt.boxplot(data)"
   ]
  },
  {
   "cell_type": "code",
   "execution_count": 15,
   "id": "f3e90818",
   "metadata": {},
   "outputs": [
    {
     "data": {
      "text/plain": [
       "{'whiskers': [<matplotlib.lines.Line2D at 0x1d13c86a790>,\n",
       "  <matplotlib.lines.Line2D at 0x1d13c86aa60>],\n",
       " 'caps': [<matplotlib.lines.Line2D at 0x1d13c86ad30>,\n",
       "  <matplotlib.lines.Line2D at 0x1d13c87a040>],\n",
       " 'boxes': [<matplotlib.lines.Line2D at 0x1d13c86a4c0>],\n",
       " 'medians': [<matplotlib.lines.Line2D at 0x1d13c87a310>],\n",
       " 'fliers': [<matplotlib.lines.Line2D at 0x1d13c87a5e0>],\n",
       " 'means': []}"
      ]
     },
     "execution_count": 15,
     "metadata": {},
     "output_type": "execute_result"
    },
    {
     "data": {
      "image/png": "[encoded data removed]",
      "text/plain": [
       "<Figure size 640x480 with 1 Axes>"
      ]
     },
     "metadata": {},
     "output_type": "display_data"
    }
   ],
   "source": [
    "plt.boxplot(data['YouthBks'])"
   ]
  },
  {
   "cell_type": "code",
   "execution_count": 16,
   "id": "5ceadc09",
   "metadata": {},
   "outputs": [
    {
     "data": {
      "text/plain": [
       "{'whiskers': [<matplotlib.lines.Line2D at 0x1d13c8ced30>,\n",
       "  <matplotlib.lines.Line2D at 0x1d13c8de040>],\n",
       " 'caps': [<matplotlib.lines.Line2D at 0x1d13c8de310>,\n",
       "  <matplotlib.lines.Line2D at 0x1d13c8de5e0>],\n",
       " 'boxes': [<matplotlib.lines.Line2D at 0x1d13c8cea30>],\n",
       " 'medians': [<matplotlib.lines.Line2D at 0x1d13c8de8b0>],\n",
       " 'fliers': [<matplotlib.lines.Line2D at 0x1d13c8deb80>],\n",
       " 'means': []}"
      ]
     },
     "execution_count": 16,
     "metadata": {},
     "output_type": "execute_result"
    },
    {
     "data": {
      "image/png": "[encoded data removed]",
      "text/plain": [
       "<Figure size 640x480 with 1 Axes>"
      ]
     },
     "metadata": {},
     "output_type": "display_data"
    }
   ],
   "source": [
    "plt.boxplot(data['RefBks'])"
   ]
  },
  {
   "cell_type": "code",
   "execution_count": 17,
   "id": "ea7d9547",
   "metadata": {},
   "outputs": [
    {
     "data": {
      "text/plain": [
       "{'whiskers': [<matplotlib.lines.Line2D at 0x1d13c934ca0>,\n",
       "  <matplotlib.lines.Line2D at 0x1d13c934f70>],\n",
       " 'caps': [<matplotlib.lines.Line2D at 0x1d13c943280>,\n",
       "  <matplotlib.lines.Line2D at 0x1d13c943550>],\n",
       " 'boxes': [<matplotlib.lines.Line2D at 0x1d13c9349d0>],\n",
       " 'medians': [<matplotlib.lines.Line2D at 0x1d13c943820>],\n",
       " 'fliers': [<matplotlib.lines.Line2D at 0x1d13c943af0>],\n",
       " 'means': []}"
      ]
     },
     "execution_count": 17,
     "metadata": {},
     "output_type": "execute_result"
    },
    {
     "data": {
      "image/png": "[encoded data removed]",
      "text/plain": [
       "<Figure size 640x480 with 1 Axes>"
      ]
     },
     "metadata": {},
     "output_type": "display_data"
    }
   ],
   "source": [
    "plt.boxplot(data['ArtBks'])"
   ]
  },
  {
   "cell_type": "code",
   "execution_count": 18,
   "id": "31936526",
   "metadata": {},
   "outputs": [
    {
     "data": {
      "text/plain": [
       "{'whiskers': [<matplotlib.lines.Line2D at 0x1d13ca63220>,\n",
       "  <matplotlib.lines.Line2D at 0x1d13ca634f0>],\n",
       " 'caps': [<matplotlib.lines.Line2D at 0x1d13ca637c0>,\n",
       "  <matplotlib.lines.Line2D at 0x1d13ca63a90>],\n",
       " 'boxes': [<matplotlib.lines.Line2D at 0x1d13ca54f10>],\n",
       " 'medians': [<matplotlib.lines.Line2D at 0x1d13ca63d60>],\n",
       " 'fliers': [<matplotlib.lines.Line2D at 0x1d13ca71070>],\n",
       " 'means': []}"
      ]
     },
     "execution_count": 18,
     "metadata": {},
     "output_type": "execute_result"
    },
    {
     "data": {
      "image/png": "[encoded data removed]",
      "text/plain": [
       "<Figure size 640x480 with 1 Axes>"
      ]
     },
     "metadata": {},
     "output_type": "display_data"
    }
   ],
   "source": [
    "plt.boxplot(data['ItalCook'])"
   ]
  },
  {
   "cell_type": "code",
   "execution_count": 20,
   "id": "22aa609a",
   "metadata": {},
   "outputs": [
    {
     "data": {
      "text/plain": [
       "{'whiskers': [<matplotlib.lines.Line2D at 0x1d13cb28430>,\n",
       "  <matplotlib.lines.Line2D at 0x1d13cb28700>],\n",
       " 'caps': [<matplotlib.lines.Line2D at 0x1d13cb289d0>,\n",
       "  <matplotlib.lines.Line2D at 0x1d13cb28ca0>],\n",
       " 'boxes': [<matplotlib.lines.Line2D at 0x1d13cb28160>],\n",
       " 'medians': [<matplotlib.lines.Line2D at 0x1d13cb28fa0>],\n",
       " 'fliers': [<matplotlib.lines.Line2D at 0x1d13cb362b0>],\n",
       " 'means': []}"
      ]
     },
     "execution_count": 20,
     "metadata": {},
     "output_type": "execute_result"
    },
    {
     "data": {
      "image/png": "[encoded data removed]",
      "text/plain": [
       "<Figure size 640x480 with 1 Axes>"
      ]
     },
     "metadata": {},
     "output_type": "display_data"
    }
   ],
   "source": [
    "plt.boxplot(data['ItalArt'])"
   ]
  },
  {
   "cell_type": "code",
   "execution_count": 21,
   "id": "558e738b",
   "metadata": {},
   "outputs": [
    {
     "data": {
      "text/plain": [
       "{'whiskers': [<matplotlib.lines.Line2D at 0x1d13cb8b6a0>,\n",
       "  <matplotlib.lines.Line2D at 0x1d13cb8b9a0>],\n",
       " 'caps': [<matplotlib.lines.Line2D at 0x1d13cb8bc70>,\n",
       "  <matplotlib.lines.Line2D at 0x1d13cb8bf40>],\n",
       " 'boxes': [<matplotlib.lines.Line2D at 0x1d13cb8b3d0>],\n",
       " 'medians': [<matplotlib.lines.Line2D at 0x1d13db68250>],\n",
       " 'fliers': [<matplotlib.lines.Line2D at 0x1d13db68520>],\n",
       " 'means': []}"
      ]
     },
     "execution_count": 21,
     "metadata": {},
     "output_type": "execute_result"
    },
    {
     "data": {
      "image/png": "[encoded data removed]",
      "text/plain": [
       "<Figure size 640x480 with 1 Axes>"
      ]
     },
     "metadata": {},
     "output_type": "display_data"
    }
   ],
   "source": [
    "plt.boxplot(data['Florence'])"
   ]
  },
  {
   "cell_type": "code",
   "execution_count": 23,
   "id": "decd7864",
   "metadata": {},
   "outputs": [],
   "source": [
    "# To Clean The Outliers we use Winsorizer\n",
    "\n",
    "from feature_engine.outliers import Winsorizer"
   ]
  },
  {
   "cell_type": "code",
   "execution_count": 24,
   "id": "973781e7",
   "metadata": {},
   "outputs": [
    {
     "name": "stderr",
     "output_type": "stream",
     "text": [
      "C:\\Users\\Shashi\\anaconda3\\lib\\site-packages\\seaborn\\_decorators.py:36: FutureWarning: Pass the following variable as a keyword arg: x. From version 0.12, the only valid positional argument will be `data`, and passing other arguments without an explicit keyword will result in an error or misinterpretation.\n",
      "  warnings.warn(\n"
     ]
    },
    {
     "data": {
      "text/plain": [
       "<AxesSubplot:xlabel='YouthBks'>"
      ]
     },
     "execution_count": 24,
     "metadata": {},
     "output_type": "execute_result"
    },
    {
     "data": {
      "image/png": "[encoded data removed]",
      "text/plain": [
       "<Figure size 640x480 with 1 Axes>"
      ]
     },
     "metadata": {},
     "output_type": "display_data"
    }
   ],
   "source": [
    "winsor_iqr = Winsorizer(capping_method = 'iqr',\n",
    "                           tail = 'both',\n",
    "                            fold = 1.5,\n",
    "                             variables = ('YouthBks'))\n",
    "\n",
    "data_iqr = winsor_iqr.fit_transform(data[['YouthBks']])\n",
    "\n",
    "sns.boxplot(data_iqr['YouthBks'])"
   ]
  },
  {
   "cell_type": "code",
   "execution_count": 25,
   "id": "a33cd052",
   "metadata": {},
   "outputs": [
    {
     "name": "stderr",
     "output_type": "stream",
     "text": [
      "C:\\Users\\Shashi\\anaconda3\\lib\\site-packages\\seaborn\\_decorators.py:36: FutureWarning: Pass the following variable as a keyword arg: x. From version 0.12, the only valid positional argument will be `data`, and passing other arguments without an explicit keyword will result in an error or misinterpretation.\n",
      "  warnings.warn(\n"
     ]
    },
    {
     "data": {
      "text/plain": [
       "<AxesSubplot:xlabel='RefBks'>"
      ]
     },
     "execution_count": 25,
     "metadata": {},
     "output_type": "execute_result"
    },
    {
     "data": {
      "image/png": "[encoded data removed]",
      "text/plain": [
       "<Figure size 640x480 with 1 Axes>"
      ]
     },
     "metadata": {},
     "output_type": "display_data"
    }
   ],
   "source": [
    "winsor_iqr = Winsorizer(capping_method = 'iqr',\n",
    "                           tail = 'both',\n",
    "                            fold = 1.5,\n",
    "                             variables = ('RefBks'))\n",
    "\n",
    "data_iqr = winsor_iqr.fit_transform(data[['RefBks']])\n",
    "\n",
    "sns.boxplot(data_iqr['RefBks'])"
   ]
  },
  {
   "cell_type": "code",
   "execution_count": 26,
   "id": "ad768c3b",
   "metadata": {},
   "outputs": [
    {
     "name": "stderr",
     "output_type": "stream",
     "text": [
      "C:\\Users\\Shashi\\anaconda3\\lib\\site-packages\\seaborn\\_decorators.py:36: FutureWarning: Pass the following variable as a keyword arg: x. From version 0.12, the only valid positional argument will be `data`, and passing other arguments without an explicit keyword will result in an error or misinterpretation.\n",
      "  warnings.warn(\n"
     ]
    },
    {
     "data": {
      "text/plain": [
       "<AxesSubplot:xlabel='ArtBks'>"
      ]
     },
     "execution_count": 26,
     "metadata": {},
     "output_type": "execute_result"
    },
    {
     "data": {
      "image/png": "[encoded data removed]",
      "text/plain": [
       "<Figure size 640x480 with 1 Axes>"
      ]
     },
     "metadata": {},
     "output_type": "display_data"
    }
   ],
   "source": [
    "winsor_iqr = Winsorizer(capping_method = 'iqr',\n",
    "                           tail = 'both',\n",
    "                            fold = 1.5,\n",
    "                             variables = ('ArtBks'))\n",
    "\n",
    "data_iqr = winsor_iqr.fit_transform(data[['ArtBks']])\n",
    "\n",
    "sns.boxplot(data_iqr['ArtBks'])"
   ]
  },
  {
   "cell_type": "code",
   "execution_count": 27,
   "id": "6188898a",
   "metadata": {},
   "outputs": [
    {
     "name": "stderr",
     "output_type": "stream",
     "text": [
      "C:\\Users\\Shashi\\anaconda3\\lib\\site-packages\\seaborn\\_decorators.py:36: FutureWarning: Pass the following variable as a keyword arg: x. From version 0.12, the only valid positional argument will be `data`, and passing other arguments without an explicit keyword will result in an error or misinterpretation.\n",
      "  warnings.warn(\n"
     ]
    },
    {
     "data": {
      "text/plain": [
       "<AxesSubplot:xlabel='ItalCook'>"
      ]
     },
     "execution_count": 27,
     "metadata": {},
     "output_type": "execute_result"
    },
    {
     "data": {
      "image/png": "[encoded data removed]",
      "text/plain": [
       "<Figure size 640x480 with 1 Axes>"
      ]
     },
     "metadata": {},
     "output_type": "display_data"
    }
   ],
   "source": [
    "winsor_iqr = Winsorizer(capping_method = 'iqr',\n",
    "                           tail = 'both',\n",
    "                            fold = 1.5,\n",
    "                             variables = ('ItalCook'))\n",
    "\n",
    "data_iqr = winsor_iqr.fit_transform(data[['ItalCook']])\n",
    "\n",
    "sns.boxplot(data_iqr['ItalCook'])"
   ]
  },
  {
   "cell_type": "code",
   "execution_count": 28,
   "id": "db5402d4",
   "metadata": {},
   "outputs": [
    {
     "name": "stderr",
     "output_type": "stream",
     "text": [
      "C:\\Users\\Shashi\\anaconda3\\lib\\site-packages\\seaborn\\_decorators.py:36: FutureWarning: Pass the following variable as a keyword arg: x. From version 0.12, the only valid positional argument will be `data`, and passing other arguments without an explicit keyword will result in an error or misinterpretation.\n",
      "  warnings.warn(\n"
     ]
    },
    {
     "data": {
      "text/plain": [
       "<AxesSubplot:xlabel='ItalArt'>"
      ]
     },
     "execution_count": 28,
     "metadata": {},
     "output_type": "execute_result"
    },
    {
     "data": {
      "image/png": "[encoded data removed]",
      "text/plain": [
       "<Figure size 640x480 with 1 Axes>"
      ]
     },
     "metadata": {},
     "output_type": "display_data"
    }
   ],
   "source": [
    "winsor_iqr = Winsorizer(capping_method = 'iqr',\n",
    "                           tail = 'both',\n",
    "                            fold = 1.5,\n",
    "                             variables = ('ItalArt'))\n",
    "\n",
    "data_iqr = winsor_iqr.fit_transform(data[['ItalArt']])\n",
    "\n",
    "sns.boxplot(data_iqr['ItalArt'])"
   ]
  },
  {
   "cell_type": "code",
   "execution_count": 29,
   "id": "092d5fd3",
   "metadata": {},
   "outputs": [
    {
     "name": "stderr",
     "output_type": "stream",
     "text": [
      "C:\\Users\\Shashi\\anaconda3\\lib\\site-packages\\seaborn\\_decorators.py:36: FutureWarning: Pass the following variable as a keyword arg: x. From version 0.12, the only valid positional argument will be `data`, and passing other arguments without an explicit keyword will result in an error or misinterpretation.\n",
      "  warnings.warn(\n"
     ]
    },
    {
     "data": {
      "text/plain": [
       "<AxesSubplot:xlabel='Florence'>"
      ]
     },
     "execution_count": 29,
     "metadata": {},
     "output_type": "execute_result"
    },
    {
     "data": {
      "image/png": "[encoded data removed]",
      "text/plain": [
       "<Figure size 640x480 with 1 Axes>"
      ]
     },
     "metadata": {},
     "output_type": "display_data"
    }
   ],
   "source": [
    "winsor_iqr = Winsorizer(capping_method = 'iqr',\n",
    "                           tail = 'both',\n",
    "                            fold = 1.5,\n",
    "                             variables = ('Florence'))\n",
    "\n",
    "data_iqr = winsor_iqr.fit_transform(data[['Florence']])\n",
    "\n",
    "sns.boxplot(data_iqr['Florence'])"
   ]
  },
  {
   "cell_type": "code",
   "execution_count": 38,
   "id": "4c40a3df",
   "metadata": {},
   "outputs": [
    {
     "data": {
      "text/plain": [
       "1680"
      ]
     },
     "execution_count": 38,
     "metadata": {},
     "output_type": "execute_result"
    }
   ],
   "source": [
    "# Checking the duplicates in data\n",
    "\n",
    "duplicates = data.duplicated()\n",
    "sum(duplicates)"
   ]
  },
  {
   "cell_type": "code",
   "execution_count": 39,
   "id": "1e03022c",
   "metadata": {},
   "outputs": [],
   "source": [
    "duplicates = data.drop_duplicates(keep = 'last', inplace = True)"
   ]
  },
  {
   "cell_type": "code",
   "execution_count": 40,
   "id": "c3e90d75",
   "metadata": {},
   "outputs": [
    {
     "data": {
      "text/plain": [
       "0"
      ]
     },
     "execution_count": 40,
     "metadata": {},
     "output_type": "execute_result"
    }
   ],
   "source": [
    "# After Cleaning the duplicates in data, Checking if any duplicates\n",
    "\n",
    "duplicates = data.duplicated()\n",
    "sum(duplicates)"
   ]
  },
  {
   "cell_type": "code",
   "execution_count": 41,
   "id": "bfb80f42",
   "metadata": {},
   "outputs": [
    {
     "data": {
      "text/plain": [
       "ChildBks     False\n",
       "YouthBks     False\n",
       "CookBks      False\n",
       "DoItYBks     False\n",
       "RefBks       False\n",
       "ArtBks       False\n",
       "GeogBks      False\n",
       "ItalCook     False\n",
       "ItalAtlas    False\n",
       "ItalArt      False\n",
       "Florence     False\n",
       "dtype: bool"
      ]
     },
     "execution_count": 41,
     "metadata": {},
     "output_type": "execute_result"
    }
   ],
   "source": [
    "# Checking variance in data\n",
    "\n",
    "data.var() == 0"
   ]
  },
  {
   "cell_type": "code",
   "execution_count": 42,
   "id": "2033d403",
   "metadata": {},
   "outputs": [
    {
     "data": {
      "text/plain": [
       "ChildBks     0\n",
       "YouthBks     0\n",
       "CookBks      0\n",
       "DoItYBks     0\n",
       "RefBks       0\n",
       "ArtBks       0\n",
       "GeogBks      0\n",
       "ItalCook     0\n",
       "ItalAtlas    0\n",
       "ItalArt      0\n",
       "Florence     0\n",
       "dtype: int64"
      ]
     },
     "execution_count": 42,
     "metadata": {},
     "output_type": "execute_result"
    }
   ],
   "source": [
    "# Checking Missing values \n",
    "\n",
    "data.isna().sum()"
   ]
  },
  {
   "cell_type": "code",
   "execution_count": null,
   "id": "428e1c53",
   "metadata": {},
   "outputs": [],
   "source": [
    "# IN This dataset we have lot of 1 and 0 values for it, there is no transformation, where it show only two lines in graph"
   ]
  },
  {
   "cell_type": "code",
   "execution_count": 43,
   "id": "16eff602",
   "metadata": {},
   "outputs": [],
   "source": [
    "# Standardization - Normalizing the scale means min = 0, max = 1.\n",
    "\n",
    "def norm_fun(i):\n",
    "    x = (i - i.min())/(i.max() - i.mn())\n",
    "    \n",
    "    return x"
   ]
  },
  {
   "cell_type": "code",
   "execution_count": 44,
   "id": "68dbc72a",
   "metadata": {},
   "outputs": [],
   "source": [
    "data_norm = pd.DataFrame(data)"
   ]
  },
  {
   "cell_type": "code",
   "execution_count": 45,
   "id": "527b27f6",
   "metadata": {},
   "outputs": [
    {
     "data": {
      "text/html": [
       "<div>\n",
       "<style scoped>\n",
       "    .dataframe tbody tr th:only-of-type {\n",
       "        vertical-align: middle;\n",
       "    }\n",
       "\n",
       "    .dataframe tbody tr th {\n",
       "        vertical-align: top;\n",
       "    }\n",
       "\n",
       "    .dataframe thead th {\n",
       "        text-align: right;\n",
       "    }\n",
       "</style>\n",
       "<table border=\"1\" class=\"dataframe\">\n",
       "  <thead>\n",
       "    <tr style=\"text-align: right;\">\n",
       "      <th></th>\n",
       "      <th>ChildBks</th>\n",
       "      <th>YouthBks</th>\n",
       "      <th>CookBks</th>\n",
       "      <th>DoItYBks</th>\n",
       "      <th>RefBks</th>\n",
       "      <th>ArtBks</th>\n",
       "      <th>GeogBks</th>\n",
       "      <th>ItalCook</th>\n",
       "      <th>ItalAtlas</th>\n",
       "      <th>ItalArt</th>\n",
       "      <th>Florence</th>\n",
       "    </tr>\n",
       "  </thead>\n",
       "  <tbody>\n",
       "    <tr>\n",
       "      <th>count</th>\n",
       "      <td>320.000000</td>\n",
       "      <td>320.000000</td>\n",
       "      <td>320.000000</td>\n",
       "      <td>320.000000</td>\n",
       "      <td>320.000000</td>\n",
       "      <td>320.000000</td>\n",
       "      <td>320.000000</td>\n",
       "      <td>320.000000</td>\n",
       "      <td>320.000000</td>\n",
       "      <td>320.000000</td>\n",
       "      <td>320.000000</td>\n",
       "    </tr>\n",
       "    <tr>\n",
       "      <th>mean</th>\n",
       "      <td>0.612500</td>\n",
       "      <td>0.450000</td>\n",
       "      <td>0.681250</td>\n",
       "      <td>0.490625</td>\n",
       "      <td>0.506250</td>\n",
       "      <td>0.556250</td>\n",
       "      <td>0.521875</td>\n",
       "      <td>0.334375</td>\n",
       "      <td>0.159375</td>\n",
       "      <td>0.190625</td>\n",
       "      <td>0.318750</td>\n",
       "    </tr>\n",
       "    <tr>\n",
       "      <th>std</th>\n",
       "      <td>0.487942</td>\n",
       "      <td>0.498273</td>\n",
       "      <td>0.466722</td>\n",
       "      <td>0.500695</td>\n",
       "      <td>0.500744</td>\n",
       "      <td>0.497604</td>\n",
       "      <td>0.500304</td>\n",
       "      <td>0.472510</td>\n",
       "      <td>0.366599</td>\n",
       "      <td>0.393409</td>\n",
       "      <td>0.466722</td>\n",
       "    </tr>\n",
       "    <tr>\n",
       "      <th>min</th>\n",
       "      <td>0.000000</td>\n",
       "      <td>0.000000</td>\n",
       "      <td>0.000000</td>\n",
       "      <td>0.000000</td>\n",
       "      <td>0.000000</td>\n",
       "      <td>0.000000</td>\n",
       "      <td>0.000000</td>\n",
       "      <td>0.000000</td>\n",
       "      <td>0.000000</td>\n",
       "      <td>0.000000</td>\n",
       "      <td>0.000000</td>\n",
       "    </tr>\n",
       "    <tr>\n",
       "      <th>25%</th>\n",
       "      <td>0.000000</td>\n",
       "      <td>0.000000</td>\n",
       "      <td>0.000000</td>\n",
       "      <td>0.000000</td>\n",
       "      <td>0.000000</td>\n",
       "      <td>0.000000</td>\n",
       "      <td>0.000000</td>\n",
       "      <td>0.000000</td>\n",
       "      <td>0.000000</td>\n",
       "      <td>0.000000</td>\n",
       "      <td>0.000000</td>\n",
       "    </tr>\n",
       "    <tr>\n",
       "      <th>50%</th>\n",
       "      <td>1.000000</td>\n",
       "      <td>0.000000</td>\n",
       "      <td>1.000000</td>\n",
       "      <td>0.000000</td>\n",
       "      <td>1.000000</td>\n",
       "      <td>1.000000</td>\n",
       "      <td>1.000000</td>\n",
       "      <td>0.000000</td>\n",
       "      <td>0.000000</td>\n",
       "      <td>0.000000</td>\n",
       "      <td>0.000000</td>\n",
       "    </tr>\n",
       "    <tr>\n",
       "      <th>75%</th>\n",
       "      <td>1.000000</td>\n",
       "      <td>1.000000</td>\n",
       "      <td>1.000000</td>\n",
       "      <td>1.000000</td>\n",
       "      <td>1.000000</td>\n",
       "      <td>1.000000</td>\n",
       "      <td>1.000000</td>\n",
       "      <td>1.000000</td>\n",
       "      <td>0.000000</td>\n",
       "      <td>0.000000</td>\n",
       "      <td>1.000000</td>\n",
       "    </tr>\n",
       "    <tr>\n",
       "      <th>max</th>\n",
       "      <td>1.000000</td>\n",
       "      <td>1.000000</td>\n",
       "      <td>1.000000</td>\n",
       "      <td>1.000000</td>\n",
       "      <td>1.000000</td>\n",
       "      <td>1.000000</td>\n",
       "      <td>1.000000</td>\n",
       "      <td>1.000000</td>\n",
       "      <td>1.000000</td>\n",
       "      <td>1.000000</td>\n",
       "      <td>1.000000</td>\n",
       "    </tr>\n",
       "  </tbody>\n",
       "</table>\n",
       "</div>"
      ],
      "text/plain": [
       "         ChildBks    YouthBks     CookBks    DoItYBks      RefBks      ArtBks  \\\n",
       "count  320.000000  320.000000  320.000000  320.000000  320.000000  320.000000   \n",
       "mean     0.612500    0.450000    0.681250    0.490625    0.506250    0.556250   \n",
       "std      0.487942    0.498273    0.466722    0.500695    0.500744    0.497604   \n",
       "min      0.000000    0.000000    0.000000    0.000000    0.000000    0.000000   \n",
       "25%      0.000000    0.000000    0.000000    0.000000    0.000000    0.000000   \n",
       "50%      1.000000    0.000000    1.000000    0.000000    1.000000    1.000000   \n",
       "75%      1.000000    1.000000    1.000000    1.000000    1.000000    1.000000   \n",
       "max      1.000000    1.000000    1.000000    1.000000    1.000000    1.000000   \n",
       "\n",
       "          GeogBks    ItalCook   ItalAtlas     ItalArt    Florence  \n",
       "count  320.000000  320.000000  320.000000  320.000000  320.000000  \n",
       "mean     0.521875    0.334375    0.159375    0.190625    0.318750  \n",
       "std      0.500304    0.472510    0.366599    0.393409    0.466722  \n",
       "min      0.000000    0.000000    0.000000    0.000000    0.000000  \n",
       "25%      0.000000    0.000000    0.000000    0.000000    0.000000  \n",
       "50%      1.000000    0.000000    0.000000    0.000000    0.000000  \n",
       "75%      1.000000    1.000000    0.000000    0.000000    1.000000  \n",
       "max      1.000000    1.000000    1.000000    1.000000    1.000000  "
      ]
     },
     "execution_count": 45,
     "metadata": {},
     "output_type": "execute_result"
    }
   ],
   "source": [
    "data_norm.describe()"
   ]
  },
  {
   "cell_type": "code",
   "execution_count": 46,
   "id": "4a6ba0aa",
   "metadata": {},
   "outputs": [
    {
     "name": "stderr",
     "output_type": "stream",
     "text": [
      "C:\\Users\\Shashi\\anaconda3\\lib\\site-packages\\mlxtend\\frequent_patterns\\fpcommon.py:111: DeprecationWarning: DataFrames with non-bool types result in worse computationalperformance and their support might be discontinued in the future.Please use a DataFrame with bool type\n",
      "  warnings.warn(\n"
     ]
    },
    {
     "data": {
      "text/html": [
       "<div>\n",
       "<style scoped>\n",
       "    .dataframe tbody tr th:only-of-type {\n",
       "        vertical-align: middle;\n",
       "    }\n",
       "\n",
       "    .dataframe tbody tr th {\n",
       "        vertical-align: top;\n",
       "    }\n",
       "\n",
       "    .dataframe thead th {\n",
       "        text-align: right;\n",
       "    }\n",
       "</style>\n",
       "<table border=\"1\" class=\"dataframe\">\n",
       "  <thead>\n",
       "    <tr style=\"text-align: right;\">\n",
       "      <th></th>\n",
       "      <th>support</th>\n",
       "      <th>itemsets</th>\n",
       "    </tr>\n",
       "  </thead>\n",
       "  <tbody>\n",
       "    <tr>\n",
       "      <th>0</th>\n",
       "      <td>0.612500</td>\n",
       "      <td>(ChildBks)</td>\n",
       "    </tr>\n",
       "    <tr>\n",
       "      <th>1</th>\n",
       "      <td>0.450000</td>\n",
       "      <td>(YouthBks)</td>\n",
       "    </tr>\n",
       "    <tr>\n",
       "      <th>2</th>\n",
       "      <td>0.681250</td>\n",
       "      <td>(CookBks)</td>\n",
       "    </tr>\n",
       "    <tr>\n",
       "      <th>3</th>\n",
       "      <td>0.490625</td>\n",
       "      <td>(DoItYBks)</td>\n",
       "    </tr>\n",
       "    <tr>\n",
       "      <th>4</th>\n",
       "      <td>0.506250</td>\n",
       "      <td>(RefBks)</td>\n",
       "    </tr>\n",
       "    <tr>\n",
       "      <th>...</th>\n",
       "      <td>...</td>\n",
       "      <td>...</td>\n",
       "    </tr>\n",
       "    <tr>\n",
       "      <th>555</th>\n",
       "      <td>0.028125</td>\n",
       "      <td>(ItalCook, GeogBks, ItalArt, ItalAtlas)</td>\n",
       "    </tr>\n",
       "    <tr>\n",
       "      <th>556</th>\n",
       "      <td>0.018750</td>\n",
       "      <td>(Florence, ItalCook, GeogBks, ItalAtlas)</td>\n",
       "    </tr>\n",
       "    <tr>\n",
       "      <th>557</th>\n",
       "      <td>0.034375</td>\n",
       "      <td>(Florence, ItalCook, GeogBks, ItalArt)</td>\n",
       "    </tr>\n",
       "    <tr>\n",
       "      <th>558</th>\n",
       "      <td>0.015625</td>\n",
       "      <td>(Florence, GeogBks, ItalArt, ItalAtlas)</td>\n",
       "    </tr>\n",
       "    <tr>\n",
       "      <th>559</th>\n",
       "      <td>0.009375</td>\n",
       "      <td>(Florence, ItalCook, ItalArt, ItalAtlas)</td>\n",
       "    </tr>\n",
       "  </tbody>\n",
       "</table>\n",
       "<p>560 rows × 2 columns</p>\n",
       "</div>"
      ],
      "text/plain": [
       "      support                                  itemsets\n",
       "0    0.612500                                (ChildBks)\n",
       "1    0.450000                                (YouthBks)\n",
       "2    0.681250                                 (CookBks)\n",
       "3    0.490625                                (DoItYBks)\n",
       "4    0.506250                                  (RefBks)\n",
       "..        ...                                       ...\n",
       "555  0.028125   (ItalCook, GeogBks, ItalArt, ItalAtlas)\n",
       "556  0.018750  (Florence, ItalCook, GeogBks, ItalAtlas)\n",
       "557  0.034375    (Florence, ItalCook, GeogBks, ItalArt)\n",
       "558  0.015625   (Florence, GeogBks, ItalArt, ItalAtlas)\n",
       "559  0.009375  (Florence, ItalCook, ItalArt, ItalAtlas)\n",
       "\n",
       "[560 rows x 2 columns]"
      ]
     },
     "execution_count": 46,
     "metadata": {},
     "output_type": "execute_result"
    }
   ],
   "source": [
    "# Using Apriori Algorithm\n",
    "\n",
    "frequent_items = apriori(data_norm, min_support = 0.0075, max_len = 4, use_colnames = True)\n",
    "frequent_items"
   ]
  },
  {
   "cell_type": "code",
   "execution_count": 47,
   "id": "e49f6b88",
   "metadata": {},
   "outputs": [
    {
     "data": {
      "text/html": [
       "<div>\n",
       "<style scoped>\n",
       "    .dataframe tbody tr th:only-of-type {\n",
       "        vertical-align: middle;\n",
       "    }\n",
       "\n",
       "    .dataframe tbody tr th {\n",
       "        vertical-align: top;\n",
       "    }\n",
       "\n",
       "    .dataframe thead th {\n",
       "        text-align: right;\n",
       "    }\n",
       "</style>\n",
       "<table border=\"1\" class=\"dataframe\">\n",
       "  <thead>\n",
       "    <tr style=\"text-align: right;\">\n",
       "      <th></th>\n",
       "      <th>support</th>\n",
       "      <th>itemsets</th>\n",
       "    </tr>\n",
       "  </thead>\n",
       "  <tbody>\n",
       "    <tr>\n",
       "      <th>559</th>\n",
       "      <td>0.009375</td>\n",
       "      <td>(Florence, ItalCook, ItalArt, ItalAtlas)</td>\n",
       "    </tr>\n",
       "    <tr>\n",
       "      <th>514</th>\n",
       "      <td>0.009375</td>\n",
       "      <td>(Florence, ArtBks, DoItYBks, ItalAtlas)</td>\n",
       "    </tr>\n",
       "    <tr>\n",
       "      <th>522</th>\n",
       "      <td>0.009375</td>\n",
       "      <td>(Florence, ItalCook, DoItYBks, ItalAtlas)</td>\n",
       "    </tr>\n",
       "    <tr>\n",
       "      <th>398</th>\n",
       "      <td>0.009375</td>\n",
       "      <td>(YouthBks, Florence, DoItYBks, ItalAtlas)</td>\n",
       "    </tr>\n",
       "    <tr>\n",
       "      <th>552</th>\n",
       "      <td>0.009375</td>\n",
       "      <td>(Florence, ItalCook, ArtBks, ItalAtlas)</td>\n",
       "    </tr>\n",
       "    <tr>\n",
       "      <th>...</th>\n",
       "      <td>...</td>\n",
       "      <td>...</td>\n",
       "    </tr>\n",
       "    <tr>\n",
       "      <th>4</th>\n",
       "      <td>0.506250</td>\n",
       "      <td>(RefBks)</td>\n",
       "    </tr>\n",
       "    <tr>\n",
       "      <th>6</th>\n",
       "      <td>0.521875</td>\n",
       "      <td>(GeogBks)</td>\n",
       "    </tr>\n",
       "    <tr>\n",
       "      <th>5</th>\n",
       "      <td>0.556250</td>\n",
       "      <td>(ArtBks)</td>\n",
       "    </tr>\n",
       "    <tr>\n",
       "      <th>0</th>\n",
       "      <td>0.612500</td>\n",
       "      <td>(ChildBks)</td>\n",
       "    </tr>\n",
       "    <tr>\n",
       "      <th>2</th>\n",
       "      <td>0.681250</td>\n",
       "      <td>(CookBks)</td>\n",
       "    </tr>\n",
       "  </tbody>\n",
       "</table>\n",
       "<p>560 rows × 2 columns</p>\n",
       "</div>"
      ],
      "text/plain": [
       "      support                                   itemsets\n",
       "559  0.009375   (Florence, ItalCook, ItalArt, ItalAtlas)\n",
       "514  0.009375    (Florence, ArtBks, DoItYBks, ItalAtlas)\n",
       "522  0.009375  (Florence, ItalCook, DoItYBks, ItalAtlas)\n",
       "398  0.009375  (YouthBks, Florence, DoItYBks, ItalAtlas)\n",
       "552  0.009375    (Florence, ItalCook, ArtBks, ItalAtlas)\n",
       "..        ...                                        ...\n",
       "4    0.506250                                   (RefBks)\n",
       "6    0.521875                                  (GeogBks)\n",
       "5    0.556250                                   (ArtBks)\n",
       "0    0.612500                                 (ChildBks)\n",
       "2    0.681250                                  (CookBks)\n",
       "\n",
       "[560 rows x 2 columns]"
      ]
     },
     "execution_count": 47,
     "metadata": {},
     "output_type": "execute_result"
    }
   ],
   "source": [
    "frequent_items.sort_values('support', ascending = True, inplace = True)\n",
    "frequent_items"
   ]
  },
  {
   "cell_type": "code",
   "execution_count": 50,
   "id": "e9eedd5a",
   "metadata": {},
   "outputs": [
    {
     "data": {
      "text/html": [
       "<div>\n",
       "<style scoped>\n",
       "    .dataframe tbody tr th:only-of-type {\n",
       "        vertical-align: middle;\n",
       "    }\n",
       "\n",
       "    .dataframe tbody tr th {\n",
       "        vertical-align: top;\n",
       "    }\n",
       "\n",
       "    .dataframe thead th {\n",
       "        text-align: right;\n",
       "    }\n",
       "</style>\n",
       "<table border=\"1\" class=\"dataframe\">\n",
       "  <thead>\n",
       "    <tr style=\"text-align: right;\">\n",
       "      <th></th>\n",
       "      <th>antecedents</th>\n",
       "      <th>consequents</th>\n",
       "      <th>antecedent support</th>\n",
       "      <th>consequent support</th>\n",
       "      <th>support</th>\n",
       "      <th>confidence</th>\n",
       "      <th>lift</th>\n",
       "      <th>leverage</th>\n",
       "      <th>conviction</th>\n",
       "    </tr>\n",
       "  </thead>\n",
       "  <tbody>\n",
       "    <tr>\n",
       "      <th>0</th>\n",
       "      <td>(Florence, ItalCook, ItalArt)</td>\n",
       "      <td>(ItalAtlas)</td>\n",
       "      <td>0.043750</td>\n",
       "      <td>0.159375</td>\n",
       "      <td>0.009375</td>\n",
       "      <td>0.214286</td>\n",
       "      <td>1.344538</td>\n",
       "      <td>0.002402</td>\n",
       "      <td>1.069886</td>\n",
       "    </tr>\n",
       "    <tr>\n",
       "      <th>1</th>\n",
       "      <td>(Florence, ItalCook, ItalAtlas)</td>\n",
       "      <td>(ItalArt)</td>\n",
       "      <td>0.021875</td>\n",
       "      <td>0.190625</td>\n",
       "      <td>0.009375</td>\n",
       "      <td>0.428571</td>\n",
       "      <td>2.248244</td>\n",
       "      <td>0.005205</td>\n",
       "      <td>1.416406</td>\n",
       "    </tr>\n",
       "    <tr>\n",
       "      <th>2</th>\n",
       "      <td>(Florence, ItalArt, ItalAtlas)</td>\n",
       "      <td>(ItalCook)</td>\n",
       "      <td>0.021875</td>\n",
       "      <td>0.334375</td>\n",
       "      <td>0.009375</td>\n",
       "      <td>0.428571</td>\n",
       "      <td>1.281709</td>\n",
       "      <td>0.002061</td>\n",
       "      <td>1.164844</td>\n",
       "    </tr>\n",
       "    <tr>\n",
       "      <th>3</th>\n",
       "      <td>(Florence, ItalCook)</td>\n",
       "      <td>(ItalArt, ItalAtlas)</td>\n",
       "      <td>0.093750</td>\n",
       "      <td>0.068750</td>\n",
       "      <td>0.009375</td>\n",
       "      <td>0.100000</td>\n",
       "      <td>1.454545</td>\n",
       "      <td>0.002930</td>\n",
       "      <td>1.034722</td>\n",
       "    </tr>\n",
       "    <tr>\n",
       "      <th>4</th>\n",
       "      <td>(Florence, ItalArt)</td>\n",
       "      <td>(ItalCook, ItalAtlas)</td>\n",
       "      <td>0.062500</td>\n",
       "      <td>0.087500</td>\n",
       "      <td>0.009375</td>\n",
       "      <td>0.150000</td>\n",
       "      <td>1.714286</td>\n",
       "      <td>0.003906</td>\n",
       "      <td>1.073529</td>\n",
       "    </tr>\n",
       "    <tr>\n",
       "      <th>...</th>\n",
       "      <td>...</td>\n",
       "      <td>...</td>\n",
       "      <td>...</td>\n",
       "      <td>...</td>\n",
       "      <td>...</td>\n",
       "      <td>...</td>\n",
       "      <td>...</td>\n",
       "      <td>...</td>\n",
       "      <td>...</td>\n",
       "    </tr>\n",
       "    <tr>\n",
       "      <th>4675</th>\n",
       "      <td>(ChildBks)</td>\n",
       "      <td>(ArtBks)</td>\n",
       "      <td>0.612500</td>\n",
       "      <td>0.556250</td>\n",
       "      <td>0.365625</td>\n",
       "      <td>0.596939</td>\n",
       "      <td>1.073148</td>\n",
       "      <td>0.024922</td>\n",
       "      <td>1.100949</td>\n",
       "    </tr>\n",
       "    <tr>\n",
       "      <th>4676</th>\n",
       "      <td>(ArtBks)</td>\n",
       "      <td>(CookBks)</td>\n",
       "      <td>0.556250</td>\n",
       "      <td>0.681250</td>\n",
       "      <td>0.384375</td>\n",
       "      <td>0.691011</td>\n",
       "      <td>1.014328</td>\n",
       "      <td>0.005430</td>\n",
       "      <td>1.031591</td>\n",
       "    </tr>\n",
       "    <tr>\n",
       "      <th>4677</th>\n",
       "      <td>(CookBks)</td>\n",
       "      <td>(ArtBks)</td>\n",
       "      <td>0.681250</td>\n",
       "      <td>0.556250</td>\n",
       "      <td>0.384375</td>\n",
       "      <td>0.564220</td>\n",
       "      <td>1.014328</td>\n",
       "      <td>0.005430</td>\n",
       "      <td>1.018289</td>\n",
       "    </tr>\n",
       "    <tr>\n",
       "      <th>4678</th>\n",
       "      <td>(ChildBks)</td>\n",
       "      <td>(CookBks)</td>\n",
       "      <td>0.612500</td>\n",
       "      <td>0.681250</td>\n",
       "      <td>0.437500</td>\n",
       "      <td>0.714286</td>\n",
       "      <td>1.048493</td>\n",
       "      <td>0.020234</td>\n",
       "      <td>1.115625</td>\n",
       "    </tr>\n",
       "    <tr>\n",
       "      <th>4679</th>\n",
       "      <td>(CookBks)</td>\n",
       "      <td>(ChildBks)</td>\n",
       "      <td>0.681250</td>\n",
       "      <td>0.612500</td>\n",
       "      <td>0.437500</td>\n",
       "      <td>0.642202</td>\n",
       "      <td>1.048493</td>\n",
       "      <td>0.020234</td>\n",
       "      <td>1.083013</td>\n",
       "    </tr>\n",
       "  </tbody>\n",
       "</table>\n",
       "<p>4680 rows × 9 columns</p>\n",
       "</div>"
      ],
      "text/plain": [
       "                          antecedents            consequents  \\\n",
       "0       (Florence, ItalCook, ItalArt)            (ItalAtlas)   \n",
       "1     (Florence, ItalCook, ItalAtlas)              (ItalArt)   \n",
       "2      (Florence, ItalArt, ItalAtlas)             (ItalCook)   \n",
       "3                (Florence, ItalCook)   (ItalArt, ItalAtlas)   \n",
       "4                 (Florence, ItalArt)  (ItalCook, ItalAtlas)   \n",
       "...                               ...                    ...   \n",
       "4675                       (ChildBks)               (ArtBks)   \n",
       "4676                         (ArtBks)              (CookBks)   \n",
       "4677                        (CookBks)               (ArtBks)   \n",
       "4678                       (ChildBks)              (CookBks)   \n",
       "4679                        (CookBks)             (ChildBks)   \n",
       "\n",
       "      antecedent support  consequent support   support  confidence      lift  \\\n",
       "0               0.043750            0.159375  0.009375    0.214286  1.344538   \n",
       "1               0.021875            0.190625  0.009375    0.428571  2.248244   \n",
       "2               0.021875            0.334375  0.009375    0.428571  1.281709   \n",
       "3               0.093750            0.068750  0.009375    0.100000  1.454545   \n",
       "4               0.062500            0.087500  0.009375    0.150000  1.714286   \n",
       "...                  ...                 ...       ...         ...       ...   \n",
       "4675            0.612500            0.556250  0.365625    0.596939  1.073148   \n",
       "4676            0.556250            0.681250  0.384375    0.691011  1.014328   \n",
       "4677            0.681250            0.556250  0.384375    0.564220  1.014328   \n",
       "4678            0.612500            0.681250  0.437500    0.714286  1.048493   \n",
       "4679            0.681250            0.612500  0.437500    0.642202  1.048493   \n",
       "\n",
       "      leverage  conviction  \n",
       "0     0.002402    1.069886  \n",
       "1     0.005205    1.416406  \n",
       "2     0.002061    1.164844  \n",
       "3     0.002930    1.034722  \n",
       "4     0.003906    1.073529  \n",
       "...        ...         ...  \n",
       "4675  0.024922    1.100949  \n",
       "4676  0.005430    1.031591  \n",
       "4677  0.005430    1.018289  \n",
       "4678  0.020234    1.115625  \n",
       "4679  0.020234    1.083013  \n",
       "\n",
       "[4680 rows x 9 columns]"
      ]
     },
     "execution_count": 50,
     "metadata": {},
     "output_type": "execute_result"
    }
   ],
   "source": [
    "# Association Rules\n",
    "\n",
    "rules = association_rules(frequent_items, metric = 'lift', min_threshold = 1)\n",
    "rules"
   ]
  },
  {
   "cell_type": "code",
   "execution_count": 51,
   "id": "7429be9f",
   "metadata": {},
   "outputs": [
    {
     "data": {
      "text/html": [
       "<div>\n",
       "<style scoped>\n",
       "    .dataframe tbody tr th:only-of-type {\n",
       "        vertical-align: middle;\n",
       "    }\n",
       "\n",
       "    .dataframe tbody tr th {\n",
       "        vertical-align: top;\n",
       "    }\n",
       "\n",
       "    .dataframe thead th {\n",
       "        text-align: right;\n",
       "    }\n",
       "</style>\n",
       "<table border=\"1\" class=\"dataframe\">\n",
       "  <thead>\n",
       "    <tr style=\"text-align: right;\">\n",
       "      <th></th>\n",
       "      <th>antecedents</th>\n",
       "      <th>consequents</th>\n",
       "      <th>antecedent support</th>\n",
       "      <th>consequent support</th>\n",
       "      <th>support</th>\n",
       "      <th>confidence</th>\n",
       "      <th>lift</th>\n",
       "      <th>leverage</th>\n",
       "      <th>conviction</th>\n",
       "    </tr>\n",
       "  </thead>\n",
       "  <tbody>\n",
       "    <tr>\n",
       "      <th>2914</th>\n",
       "      <td>(ArtBks, ItalAtlas)</td>\n",
       "      <td>(RefBks, ItalArt)</td>\n",
       "      <td>0.078125</td>\n",
       "      <td>0.090625</td>\n",
       "      <td>0.068750</td>\n",
       "      <td>0.880000</td>\n",
       "      <td>9.710345</td>\n",
       "      <td>0.061670</td>\n",
       "      <td>7.578125</td>\n",
       "    </tr>\n",
       "    <tr>\n",
       "      <th>2915</th>\n",
       "      <td>(RefBks, ItalArt)</td>\n",
       "      <td>(ArtBks, ItalAtlas)</td>\n",
       "      <td>0.090625</td>\n",
       "      <td>0.078125</td>\n",
       "      <td>0.068750</td>\n",
       "      <td>0.758621</td>\n",
       "      <td>9.710345</td>\n",
       "      <td>0.061670</td>\n",
       "      <td>3.819196</td>\n",
       "    </tr>\n",
       "    <tr>\n",
       "      <th>451</th>\n",
       "      <td>(Florence, ItalAtlas)</td>\n",
       "      <td>(RefBks, ItalArt)</td>\n",
       "      <td>0.037500</td>\n",
       "      <td>0.090625</td>\n",
       "      <td>0.021875</td>\n",
       "      <td>0.583333</td>\n",
       "      <td>6.436782</td>\n",
       "      <td>0.018477</td>\n",
       "      <td>2.182500</td>\n",
       "    </tr>\n",
       "    <tr>\n",
       "      <th>452</th>\n",
       "      <td>(RefBks, ItalArt)</td>\n",
       "      <td>(Florence, ItalAtlas)</td>\n",
       "      <td>0.090625</td>\n",
       "      <td>0.037500</td>\n",
       "      <td>0.021875</td>\n",
       "      <td>0.241379</td>\n",
       "      <td>6.436782</td>\n",
       "      <td>0.018477</td>\n",
       "      <td>1.268750</td>\n",
       "    </tr>\n",
       "    <tr>\n",
       "      <th>1680</th>\n",
       "      <td>(GeogBks, ItalAtlas)</td>\n",
       "      <td>(RefBks, ItalArt)</td>\n",
       "      <td>0.081250</td>\n",
       "      <td>0.090625</td>\n",
       "      <td>0.043750</td>\n",
       "      <td>0.538462</td>\n",
       "      <td>5.941645</td>\n",
       "      <td>0.036387</td>\n",
       "      <td>1.970312</td>\n",
       "    </tr>\n",
       "  </tbody>\n",
       "</table>\n",
       "</div>"
      ],
      "text/plain": [
       "                antecedents            consequents  antecedent support  \\\n",
       "2914    (ArtBks, ItalAtlas)      (RefBks, ItalArt)            0.078125   \n",
       "2915      (RefBks, ItalArt)    (ArtBks, ItalAtlas)            0.090625   \n",
       "451   (Florence, ItalAtlas)      (RefBks, ItalArt)            0.037500   \n",
       "452       (RefBks, ItalArt)  (Florence, ItalAtlas)            0.090625   \n",
       "1680   (GeogBks, ItalAtlas)      (RefBks, ItalArt)            0.081250   \n",
       "\n",
       "      consequent support   support  confidence      lift  leverage  conviction  \n",
       "2914            0.090625  0.068750    0.880000  9.710345  0.061670    7.578125  \n",
       "2915            0.078125  0.068750    0.758621  9.710345  0.061670    3.819196  \n",
       "451             0.090625  0.021875    0.583333  6.436782  0.018477    2.182500  \n",
       "452             0.037500  0.021875    0.241379  6.436782  0.018477    1.268750  \n",
       "1680            0.090625  0.043750    0.538462  5.941645  0.036387    1.970312  "
      ]
     },
     "execution_count": 51,
     "metadata": {},
     "output_type": "execute_result"
    }
   ],
   "source": [
    "rules.sort_values('lift' , ascending = False,).head(5)"
   ]
  },
  {
   "cell_type": "code",
   "execution_count": null,
   "id": "85b53522",
   "metadata": {},
   "outputs": [],
   "source": []
  }
 ],
 "metadata": {
  "kernelspec": {
   "display_name": "Python 3 (ipykernel)",
   "language": "python",
   "name": "python3"
  },
  "language_info": {
   "codemirror_mode": {
    "name": "ipython",
    "version": 3
   },
   "file_extension": ".py",
   "mimetype": "text/x-python",
   "name": "python",
   "nbconvert_exporter": "python",
   "pygments_lexer": "ipython3",
   "version": "3.9.15"
  }
 },
 "nbformat": 4,
 "nbformat_minor": 5
}
