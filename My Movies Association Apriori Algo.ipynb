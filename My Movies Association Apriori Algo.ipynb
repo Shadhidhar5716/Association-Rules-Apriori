{
 "cells": [
  {
   "cell_type": "code",
   "execution_count": 1,
   "id": "43c96bb2",
   "metadata": {},
   "outputs": [],
   "source": [
    "# Importing the Libraries\n",
    "import pandas as pd\n",
    "import matplotlib.pyplot as plt\n",
    "import numpy as np\n",
    "import seaborn as sns\n",
    "from mlxtend.frequent_patterns import association_rules, apriori \n",
    "from mlxtend.preprocessing import TransactionEncoder"
   ]
  },
  {
   "cell_type": "code",
   "execution_count": 2,
   "id": "6b470968",
   "metadata": {},
   "outputs": [],
   "source": [
    "# Importing warnings to not get warnings.\n",
    "import warnings\n",
    "warnings.filterwarnings('ignore')"
   ]
  },
  {
   "cell_type": "code",
   "execution_count": 3,
   "id": "a851d9a1",
   "metadata": {},
   "outputs": [],
   "source": [
    "#Loading the datset\n",
    "data = pd.read_csv(r\"C:\\Users\\Shashi\\Model Building\\Unsupervised Learning or Descriptive Model\\Association Rules\\my_movies.csv\")"
   ]
  },
  {
   "cell_type": "code",
   "execution_count": 4,
   "id": "c83aa858",
   "metadata": {},
   "outputs": [
    {
     "data": {
      "text/html": [
       "<div>\n",
       "<style scoped>\n",
       "    .dataframe tbody tr th:only-of-type {\n",
       "        vertical-align: middle;\n",
       "    }\n",
       "\n",
       "    .dataframe tbody tr th {\n",
       "        vertical-align: top;\n",
       "    }\n",
       "\n",
       "    .dataframe thead th {\n",
       "        text-align: right;\n",
       "    }\n",
       "</style>\n",
       "<table border=\"1\" class=\"dataframe\">\n",
       "  <thead>\n",
       "    <tr style=\"text-align: right;\">\n",
       "      <th></th>\n",
       "      <th>V1</th>\n",
       "      <th>V2</th>\n",
       "      <th>V3</th>\n",
       "      <th>V4</th>\n",
       "      <th>V5</th>\n",
       "      <th>Sixth Sense</th>\n",
       "      <th>Gladiator</th>\n",
       "      <th>LOTR1</th>\n",
       "      <th>Harry Potter1</th>\n",
       "      <th>Patriot</th>\n",
       "      <th>LOTR2</th>\n",
       "      <th>Harry Potter2</th>\n",
       "      <th>LOTR</th>\n",
       "      <th>Braveheart</th>\n",
       "      <th>Green Mile</th>\n",
       "    </tr>\n",
       "  </thead>\n",
       "  <tbody>\n",
       "    <tr>\n",
       "      <th>0</th>\n",
       "      <td>Sixth Sense</td>\n",
       "      <td>LOTR1</td>\n",
       "      <td>Harry Potter1</td>\n",
       "      <td>Green Mile</td>\n",
       "      <td>LOTR2</td>\n",
       "      <td>1</td>\n",
       "      <td>0</td>\n",
       "      <td>1</td>\n",
       "      <td>1</td>\n",
       "      <td>0</td>\n",
       "      <td>1</td>\n",
       "      <td>0</td>\n",
       "      <td>0</td>\n",
       "      <td>0</td>\n",
       "      <td>1</td>\n",
       "    </tr>\n",
       "    <tr>\n",
       "      <th>1</th>\n",
       "      <td>Gladiator</td>\n",
       "      <td>Patriot</td>\n",
       "      <td>Braveheart</td>\n",
       "      <td>NaN</td>\n",
       "      <td>NaN</td>\n",
       "      <td>0</td>\n",
       "      <td>1</td>\n",
       "      <td>0</td>\n",
       "      <td>0</td>\n",
       "      <td>1</td>\n",
       "      <td>0</td>\n",
       "      <td>0</td>\n",
       "      <td>0</td>\n",
       "      <td>1</td>\n",
       "      <td>0</td>\n",
       "    </tr>\n",
       "    <tr>\n",
       "      <th>2</th>\n",
       "      <td>LOTR1</td>\n",
       "      <td>LOTR2</td>\n",
       "      <td>NaN</td>\n",
       "      <td>NaN</td>\n",
       "      <td>NaN</td>\n",
       "      <td>0</td>\n",
       "      <td>0</td>\n",
       "      <td>1</td>\n",
       "      <td>0</td>\n",
       "      <td>0</td>\n",
       "      <td>1</td>\n",
       "      <td>0</td>\n",
       "      <td>0</td>\n",
       "      <td>0</td>\n",
       "      <td>0</td>\n",
       "    </tr>\n",
       "    <tr>\n",
       "      <th>3</th>\n",
       "      <td>Gladiator</td>\n",
       "      <td>Patriot</td>\n",
       "      <td>Sixth Sense</td>\n",
       "      <td>NaN</td>\n",
       "      <td>NaN</td>\n",
       "      <td>1</td>\n",
       "      <td>1</td>\n",
       "      <td>0</td>\n",
       "      <td>0</td>\n",
       "      <td>1</td>\n",
       "      <td>0</td>\n",
       "      <td>0</td>\n",
       "      <td>0</td>\n",
       "      <td>0</td>\n",
       "      <td>0</td>\n",
       "    </tr>\n",
       "    <tr>\n",
       "      <th>4</th>\n",
       "      <td>Gladiator</td>\n",
       "      <td>Patriot</td>\n",
       "      <td>Sixth Sense</td>\n",
       "      <td>NaN</td>\n",
       "      <td>NaN</td>\n",
       "      <td>1</td>\n",
       "      <td>1</td>\n",
       "      <td>0</td>\n",
       "      <td>0</td>\n",
       "      <td>1</td>\n",
       "      <td>0</td>\n",
       "      <td>0</td>\n",
       "      <td>0</td>\n",
       "      <td>0</td>\n",
       "      <td>0</td>\n",
       "    </tr>\n",
       "  </tbody>\n",
       "</table>\n",
       "</div>"
      ],
      "text/plain": [
       "            V1       V2             V3          V4     V5  Sixth Sense  \\\n",
       "0  Sixth Sense    LOTR1  Harry Potter1  Green Mile  LOTR2            1   \n",
       "1    Gladiator  Patriot     Braveheart         NaN    NaN            0   \n",
       "2        LOTR1    LOTR2            NaN         NaN    NaN            0   \n",
       "3    Gladiator  Patriot    Sixth Sense         NaN    NaN            1   \n",
       "4    Gladiator  Patriot    Sixth Sense         NaN    NaN            1   \n",
       "\n",
       "   Gladiator  LOTR1  Harry Potter1  Patriot  LOTR2  Harry Potter2  LOTR  \\\n",
       "0          0      1              1        0      1              0     0   \n",
       "1          1      0              0        1      0              0     0   \n",
       "2          0      1              0        0      1              0     0   \n",
       "3          1      0              0        1      0              0     0   \n",
       "4          1      0              0        1      0              0     0   \n",
       "\n",
       "   Braveheart  Green Mile  \n",
       "0           0           1  \n",
       "1           1           0  \n",
       "2           0           0  \n",
       "3           0           0  \n",
       "4           0           0  "
      ]
     },
     "execution_count": 4,
     "metadata": {},
     "output_type": "execute_result"
    }
   ],
   "source": [
    "#Checking the head of data,which represent the top 5 rows.\n",
    "data.head()"
   ]
  },
  {
   "cell_type": "code",
   "execution_count": 5,
   "id": "2f79e062",
   "metadata": {},
   "outputs": [
    {
     "data": {
      "text/plain": [
       "V1               object\n",
       "V2               object\n",
       "V3               object\n",
       "V4               object\n",
       "V5               object\n",
       "Sixth Sense       int64\n",
       "Gladiator         int64\n",
       "LOTR1             int64\n",
       "Harry Potter1     int64\n",
       "Patriot           int64\n",
       "LOTR2             int64\n",
       "Harry Potter2     int64\n",
       "LOTR              int64\n",
       "Braveheart        int64\n",
       "Green Mile        int64\n",
       "dtype: object"
      ]
     },
     "execution_count": 5,
     "metadata": {},
     "output_type": "execute_result"
    }
   ],
   "source": [
    "# Checking the datatypes of data\n",
    "data.dtypes"
   ]
  },
  {
   "cell_type": "code",
   "execution_count": 6,
   "id": "8f0e0964",
   "metadata": {},
   "outputs": [
    {
     "data": {
      "text/plain": [
       "Sixth Sense      0.6\n",
       "Gladiator        0.7\n",
       "LOTR1            0.2\n",
       "Harry Potter1    0.2\n",
       "Patriot          0.6\n",
       "LOTR2            0.2\n",
       "Harry Potter2    0.1\n",
       "LOTR             0.1\n",
       "Braveheart       0.1\n",
       "Green Mile       0.2\n",
       "dtype: float64"
      ]
     },
     "execution_count": 6,
     "metadata": {},
     "output_type": "execute_result"
    }
   ],
   "source": [
    "# 1st Business Moment : Measures of Central Tendency\n",
    "# calculating the Mean, Median, Mode.\n",
    "data.mean()"
   ]
  },
  {
   "cell_type": "code",
   "execution_count": 7,
   "id": "45fea2d2",
   "metadata": {},
   "outputs": [
    {
     "data": {
      "text/html": [
       "<div>\n",
       "<style scoped>\n",
       "    .dataframe tbody tr th:only-of-type {\n",
       "        vertical-align: middle;\n",
       "    }\n",
       "\n",
       "    .dataframe tbody tr th {\n",
       "        vertical-align: top;\n",
       "    }\n",
       "\n",
       "    .dataframe thead th {\n",
       "        text-align: right;\n",
       "    }\n",
       "</style>\n",
       "<table border=\"1\" class=\"dataframe\">\n",
       "  <thead>\n",
       "    <tr style=\"text-align: right;\">\n",
       "      <th></th>\n",
       "      <th>V1</th>\n",
       "      <th>V2</th>\n",
       "      <th>V3</th>\n",
       "      <th>V4</th>\n",
       "      <th>V5</th>\n",
       "      <th>Sixth Sense</th>\n",
       "      <th>Gladiator</th>\n",
       "      <th>LOTR1</th>\n",
       "      <th>Harry Potter1</th>\n",
       "      <th>Patriot</th>\n",
       "      <th>LOTR2</th>\n",
       "      <th>Harry Potter2</th>\n",
       "      <th>LOTR</th>\n",
       "      <th>Braveheart</th>\n",
       "      <th>Green Mile</th>\n",
       "    </tr>\n",
       "  </thead>\n",
       "  <tbody>\n",
       "    <tr>\n",
       "      <th>0</th>\n",
       "      <td>Gladiator</td>\n",
       "      <td>Patriot</td>\n",
       "      <td>Sixth Sense</td>\n",
       "      <td>Green Mile</td>\n",
       "      <td>LOTR2</td>\n",
       "      <td>1</td>\n",
       "      <td>1</td>\n",
       "      <td>0</td>\n",
       "      <td>0</td>\n",
       "      <td>1</td>\n",
       "      <td>0</td>\n",
       "      <td>0</td>\n",
       "      <td>0</td>\n",
       "      <td>0</td>\n",
       "      <td>0</td>\n",
       "    </tr>\n",
       "  </tbody>\n",
       "</table>\n",
       "</div>"
      ],
      "text/plain": [
       "          V1       V2           V3          V4     V5  Sixth Sense  Gladiator  \\\n",
       "0  Gladiator  Patriot  Sixth Sense  Green Mile  LOTR2            1          1   \n",
       "\n",
       "   LOTR1  Harry Potter1  Patriot  LOTR2  Harry Potter2  LOTR  Braveheart  \\\n",
       "0      0              0        1      0              0     0           0   \n",
       "\n",
       "   Green Mile  \n",
       "0           0  "
      ]
     },
     "execution_count": 7,
     "metadata": {},
     "output_type": "execute_result"
    }
   ],
   "source": [
    "data.mode()"
   ]
  },
  {
   "cell_type": "code",
   "execution_count": 8,
   "id": "681e8f5e",
   "metadata": {},
   "outputs": [
    {
     "data": {
      "text/plain": [
       "Sixth Sense      1.0\n",
       "Gladiator        1.0\n",
       "LOTR1            0.0\n",
       "Harry Potter1    0.0\n",
       "Patriot          1.0\n",
       "LOTR2            0.0\n",
       "Harry Potter2    0.0\n",
       "LOTR             0.0\n",
       "Braveheart       0.0\n",
       "Green Mile       0.0\n",
       "dtype: float64"
      ]
     },
     "execution_count": 8,
     "metadata": {},
     "output_type": "execute_result"
    }
   ],
   "source": [
    "data.median()"
   ]
  },
  {
   "cell_type": "code",
   "execution_count": 9,
   "id": "992ad5d0",
   "metadata": {},
   "outputs": [
    {
     "data": {
      "text/plain": [
       "Sixth Sense      0.266667\n",
       "Gladiator        0.233333\n",
       "LOTR1            0.177778\n",
       "Harry Potter1    0.177778\n",
       "Patriot          0.266667\n",
       "LOTR2            0.177778\n",
       "Harry Potter2    0.100000\n",
       "LOTR             0.100000\n",
       "Braveheart       0.100000\n",
       "Green Mile       0.177778\n",
       "dtype: float64"
      ]
     },
     "execution_count": 9,
     "metadata": {},
     "output_type": "execute_result"
    }
   ],
   "source": [
    "# 2nd Business Moment : Measures of Disperstion \n",
    "# Checking the Variance, Standard Deviation.\n",
    "data.var()"
   ]
  },
  {
   "cell_type": "code",
   "execution_count": 10,
   "id": "1e218fee",
   "metadata": {},
   "outputs": [
    {
     "data": {
      "text/plain": [
       "Sixth Sense      0.516398\n",
       "Gladiator        0.483046\n",
       "LOTR1            0.421637\n",
       "Harry Potter1    0.421637\n",
       "Patriot          0.516398\n",
       "LOTR2            0.421637\n",
       "Harry Potter2    0.316228\n",
       "LOTR             0.316228\n",
       "Braveheart       0.316228\n",
       "Green Mile       0.421637\n",
       "dtype: float64"
      ]
     },
     "execution_count": 10,
     "metadata": {},
     "output_type": "execute_result"
    }
   ],
   "source": [
    "data.std()"
   ]
  },
  {
   "cell_type": "code",
   "execution_count": 11,
   "id": "5163d2f6",
   "metadata": {},
   "outputs": [
    {
     "data": {
      "text/plain": [
       "Sixth Sense     -0.484123\n",
       "Gladiator       -1.035098\n",
       "LOTR1            1.778781\n",
       "Harry Potter1    1.778781\n",
       "Patriot         -0.484123\n",
       "LOTR2            1.778781\n",
       "Harry Potter2    3.162278\n",
       "LOTR             3.162278\n",
       "Braveheart       3.162278\n",
       "Green Mile       1.778781\n",
       "dtype: float64"
      ]
     },
     "execution_count": 11,
     "metadata": {},
     "output_type": "execute_result"
    }
   ],
   "source": [
    "# 3rd Business Moment : Measures of Skewness \n",
    "data.skew()"
   ]
  },
  {
   "cell_type": "code",
   "execution_count": 12,
   "id": "d97e9d41",
   "metadata": {},
   "outputs": [
    {
     "data": {
      "text/plain": [
       "Sixth Sense      -2.276786\n",
       "Gladiator        -1.224490\n",
       "LOTR1             1.406250\n",
       "Harry Potter1     1.406250\n",
       "Patriot          -2.276786\n",
       "LOTR2             1.406250\n",
       "Harry Potter2    10.000000\n",
       "LOTR             10.000000\n",
       "Braveheart       10.000000\n",
       "Green Mile        1.406250\n",
       "dtype: float64"
      ]
     },
     "execution_count": 12,
     "metadata": {},
     "output_type": "execute_result"
    }
   ],
   "source": [
    "# 4th Business Moment : Measures of Kurtisos \n",
    "data.kurt()"
   ]
  },
  {
   "cell_type": "code",
   "execution_count": 13,
   "id": "a9cd7265",
   "metadata": {},
   "outputs": [
    {
     "data": {
      "text/plain": [
       "{'whiskers': [<matplotlib.lines.Line2D at 0x29b3c0baaf0>,\n",
       "  <matplotlib.lines.Line2D at 0x29b3c0badc0>],\n",
       " 'caps': [<matplotlib.lines.Line2D at 0x29b3c7790d0>,\n",
       "  <matplotlib.lines.Line2D at 0x29b3c7793a0>],\n",
       " 'boxes': [<matplotlib.lines.Line2D at 0x29b3c0ba820>],\n",
       " 'medians': [<matplotlib.lines.Line2D at 0x29b3c779670>],\n",
       " 'fliers': [<matplotlib.lines.Line2D at 0x29b3c779940>],\n",
       " 'means': []}"
      ]
     },
     "execution_count": 13,
     "metadata": {},
     "output_type": "execute_result"
    },
    {
     "data": {
      "image/png": "[encoded data removed]",
      "text/plain": [
       "<Figure size 640x480 with 1 Axes>"
      ]
     },
     "metadata": {},
     "output_type": "display_data"
    }
   ],
   "source": [
    "# Graphical Representation & Checking the Outliers of data.\n",
    "plt.boxplot(data['Sixth Sense'])"
   ]
  },
  {
   "cell_type": "code",
   "execution_count": 14,
   "id": "78718e0a",
   "metadata": {},
   "outputs": [
    {
     "data": {
      "text/plain": [
       "{'whiskers': [<matplotlib.lines.Line2D at 0x29b3c99cf40>,\n",
       "  <matplotlib.lines.Line2D at 0x29b3c7ab250>],\n",
       " 'caps': [<matplotlib.lines.Line2D at 0x29b3c7ab520>,\n",
       "  <matplotlib.lines.Line2D at 0x29b3c7ab820>],\n",
       " 'boxes': [<matplotlib.lines.Line2D at 0x29b3c99cc70>],\n",
       " 'medians': [<matplotlib.lines.Line2D at 0x29b3c7aba90>],\n",
       " 'fliers': [<matplotlib.lines.Line2D at 0x29b3c7abd60>],\n",
       " 'means': []}"
      ]
     },
     "execution_count": 14,
     "metadata": {},
     "output_type": "execute_result"
    },
    {
     "data": {
      "image/png": "[encoded data removed]",
      "text/plain": [
       "<Figure size 640x480 with 1 Axes>"
      ]
     },
     "metadata": {},
     "output_type": "display_data"
    }
   ],
   "source": [
    "plt.boxplot(data['Gladiator'])"
   ]
  },
  {
   "cell_type": "code",
   "execution_count": 15,
   "id": "be18daf5",
   "metadata": {},
   "outputs": [
    {
     "data": {
      "text/plain": [
       "{'whiskers': [<matplotlib.lines.Line2D at 0x29b3c8135b0>,\n",
       "  <matplotlib.lines.Line2D at 0x29b3c813880>],\n",
       " 'caps': [<matplotlib.lines.Line2D at 0x29b3c813b50>,\n",
       "  <matplotlib.lines.Line2D at 0x29b3c813e20>],\n",
       " 'boxes': [<matplotlib.lines.Line2D at 0x29b3c8132e0>],\n",
       " 'medians': [<matplotlib.lines.Line2D at 0x29b3c81e130>],\n",
       " 'fliers': [<matplotlib.lines.Line2D at 0x29b3c81e400>],\n",
       " 'means': []}"
      ]
     },
     "execution_count": 15,
     "metadata": {},
     "output_type": "execute_result"
    },
    {
     "data": {
      "image/png": "[encoded data removed]",
      "text/plain": [
       "<Figure size 640x480 with 1 Axes>"
      ]
     },
     "metadata": {},
     "output_type": "display_data"
    }
   ],
   "source": [
    "plt.boxplot(data['LOTR1'])"
   ]
  },
  {
   "cell_type": "code",
   "execution_count": 16,
   "id": "fed3b3dd",
   "metadata": {},
   "outputs": [
    {
     "data": {
      "text/plain": [
       "{'whiskers': [<matplotlib.lines.Line2D at 0x29b3c87e190>,\n",
       "  <matplotlib.lines.Line2D at 0x29b3c87e460>],\n",
       " 'caps': [<matplotlib.lines.Line2D at 0x29b3c87e760>,\n",
       "  <matplotlib.lines.Line2D at 0x29b3c87ea30>],\n",
       " 'boxes': [<matplotlib.lines.Line2D at 0x29b3c86ee80>],\n",
       " 'medians': [<matplotlib.lines.Line2D at 0x29b3c87ed00>],\n",
       " 'fliers': [<matplotlib.lines.Line2D at 0x29b3c87efd0>],\n",
       " 'means': []}"
      ]
     },
     "execution_count": 16,
     "metadata": {},
     "output_type": "execute_result"
    },
    {
     "data": {
      "image/png": "[encoded data removed]",
      "text/plain": [
       "<Figure size 640x480 with 1 Axes>"
      ]
     },
     "metadata": {},
     "output_type": "display_data"
    }
   ],
   "source": [
    "plt.boxplot(data['Harry Potter1'])"
   ]
  },
  {
   "cell_type": "code",
   "execution_count": 17,
   "id": "35aa2566",
   "metadata": {},
   "outputs": [
    {
     "data": {
      "text/plain": [
       "{'whiskers': [<matplotlib.lines.Line2D at 0x29b3c8de8b0>,\n",
       "  <matplotlib.lines.Line2D at 0x29b3c8deb80>],\n",
       " 'caps': [<matplotlib.lines.Line2D at 0x29b3c8dee50>,\n",
       "  <matplotlib.lines.Line2D at 0x29b3c9ae160>],\n",
       " 'boxes': [<matplotlib.lines.Line2D at 0x29b3c8de5e0>],\n",
       " 'medians': [<matplotlib.lines.Line2D at 0x29b3c9ae430>],\n",
       " 'fliers': [<matplotlib.lines.Line2D at 0x29b3c9ae700>],\n",
       " 'means': []}"
      ]
     },
     "execution_count": 17,
     "metadata": {},
     "output_type": "execute_result"
    },
    {
     "data": {
      "image/png": "[encoded data removed]",
      "text/plain": [
       "<Figure size 640x480 with 1 Axes>"
      ]
     },
     "metadata": {},
     "output_type": "display_data"
    }
   ],
   "source": [
    "plt.boxplot(data['LOTR'])"
   ]
  },
  {
   "cell_type": "code",
   "execution_count": 18,
   "id": "1e362749",
   "metadata": {},
   "outputs": [
    {
     "data": {
      "text/plain": [
       "{'whiskers': [<matplotlib.lines.Line2D at 0x29b3c9ffd60>,\n",
       "  <matplotlib.lines.Line2D at 0x29b3ca0d070>],\n",
       " 'caps': [<matplotlib.lines.Line2D at 0x29b3ca0d340>,\n",
       "  <matplotlib.lines.Line2D at 0x29b3ca0d610>],\n",
       " 'boxes': [<matplotlib.lines.Line2D at 0x29b3c9ffa90>],\n",
       " 'medians': [<matplotlib.lines.Line2D at 0x29b3ca0d8e0>],\n",
       " 'fliers': [<matplotlib.lines.Line2D at 0x29b3ca0dbb0>],\n",
       " 'means': []}"
      ]
     },
     "execution_count": 18,
     "metadata": {},
     "output_type": "execute_result"
    },
    {
     "data": {
      "image/png": "[encoded data removed]",
      "text/plain": [
       "<Figure size 640x480 with 1 Axes>"
      ]
     },
     "metadata": {},
     "output_type": "display_data"
    }
   ],
   "source": [
    "plt.boxplot(data['Braveheart'])"
   ]
  },
  {
   "cell_type": "code",
   "execution_count": 19,
   "id": "3c98df45",
   "metadata": {},
   "outputs": [
    {
     "data": {
      "text/plain": [
       "{'whiskers': [<matplotlib.lines.Line2D at 0x29b3ca2f1f0>,\n",
       "  <matplotlib.lines.Line2D at 0x29b3ca2f4c0>],\n",
       " 'caps': [<matplotlib.lines.Line2D at 0x29b3ca2f790>,\n",
       "  <matplotlib.lines.Line2D at 0x29b3ca2fa60>],\n",
       " 'boxes': [<matplotlib.lines.Line2D at 0x29b3cb9fee0>],\n",
       " 'medians': [<matplotlib.lines.Line2D at 0x29b3ca2fd30>],\n",
       " 'fliers': [<matplotlib.lines.Line2D at 0x29b3ca3c040>],\n",
       " 'means': []}"
      ]
     },
     "execution_count": 19,
     "metadata": {},
     "output_type": "execute_result"
    },
    {
     "data": {
      "image/png": "[encoded data removed]",
      "text/plain": [
       "<Figure size 640x480 with 1 Axes>"
      ]
     },
     "metadata": {},
     "output_type": "display_data"
    }
   ],
   "source": [
    "plt.boxplot(data['Green Mile'])"
   ]
  },
  {
   "cell_type": "code",
   "execution_count": 20,
   "id": "8b7637ce",
   "metadata": {},
   "outputs": [],
   "source": [
    "# Cleaning of Outliers we use Winsorizer\n",
    "from feature_engine.outliers import Winsorizer"
   ]
  },
  {
   "cell_type": "code",
   "execution_count": 21,
   "id": "3af7fa7f",
   "metadata": {},
   "outputs": [
    {
     "ename": "ValueError",
     "evalue": "Input columns ['Green Mile'] have low variation for method 'iqr'. Try other capping methods or drop these columns.",
     "output_type": "error",
     "traceback": [
      "\u001b[1;31m---------------------------------------------------------------------------\u001b[0m",
      "\u001b[1;31mValueError\u001b[0m                                Traceback (most recent call last)",
      "\u001b[1;32m~\\AppData\\Local\\Temp\\ipykernel_26828\\3597850645.py\u001b[0m in \u001b[0;36m<module>\u001b[1;34m\u001b[0m\n\u001b[0;32m      4\u001b[0m                              variables = ('Green Mile'))\n\u001b[0;32m      5\u001b[0m \u001b[1;33m\u001b[0m\u001b[0m\n\u001b[1;32m----> 6\u001b[1;33m \u001b[0mdata_iqr\u001b[0m \u001b[1;33m=\u001b[0m \u001b[0mwinsor_iqr\u001b[0m\u001b[1;33m.\u001b[0m\u001b[0mfit_transform\u001b[0m\u001b[1;33m(\u001b[0m\u001b[0mdata\u001b[0m\u001b[1;33m[\u001b[0m\u001b[1;33m[\u001b[0m\u001b[1;34m'Green Mile'\u001b[0m\u001b[1;33m]\u001b[0m\u001b[1;33m]\u001b[0m\u001b[1;33m)\u001b[0m\u001b[1;33m\u001b[0m\u001b[1;33m\u001b[0m\u001b[0m\n\u001b[0m\u001b[0;32m      7\u001b[0m \u001b[1;33m\u001b[0m\u001b[0m\n\u001b[0;32m      8\u001b[0m \u001b[0msns\u001b[0m\u001b[1;33m.\u001b[0m\u001b[0mboxplot\u001b[0m\u001b[1;33m(\u001b[0m\u001b[0mdata_iqr\u001b[0m\u001b[1;33m[\u001b[0m\u001b[1;34m'Green Mile'\u001b[0m\u001b[1;33m]\u001b[0m\u001b[1;33m)\u001b[0m\u001b[1;33m\u001b[0m\u001b[1;33m\u001b[0m\u001b[0m\n",
      "\u001b[1;32m~\\anaconda3\\lib\\site-packages\\sklearn\\base.py\u001b[0m in \u001b[0;36mfit_transform\u001b[1;34m(self, X, y, **fit_params)\u001b[0m\n\u001b[0;32m    850\u001b[0m         \u001b[1;32mif\u001b[0m \u001b[0my\u001b[0m \u001b[1;32mis\u001b[0m \u001b[1;32mNone\u001b[0m\u001b[1;33m:\u001b[0m\u001b[1;33m\u001b[0m\u001b[1;33m\u001b[0m\u001b[0m\n\u001b[0;32m    851\u001b[0m             \u001b[1;31m# fit method of arity 1 (unsupervised transformation)\u001b[0m\u001b[1;33m\u001b[0m\u001b[1;33m\u001b[0m\u001b[0m\n\u001b[1;32m--> 852\u001b[1;33m             \u001b[1;32mreturn\u001b[0m \u001b[0mself\u001b[0m\u001b[1;33m.\u001b[0m\u001b[0mfit\u001b[0m\u001b[1;33m(\u001b[0m\u001b[0mX\u001b[0m\u001b[1;33m,\u001b[0m \u001b[1;33m**\u001b[0m\u001b[0mfit_params\u001b[0m\u001b[1;33m)\u001b[0m\u001b[1;33m.\u001b[0m\u001b[0mtransform\u001b[0m\u001b[1;33m(\u001b[0m\u001b[0mX\u001b[0m\u001b[1;33m)\u001b[0m\u001b[1;33m\u001b[0m\u001b[1;33m\u001b[0m\u001b[0m\n\u001b[0m\u001b[0;32m    853\u001b[0m         \u001b[1;32melse\u001b[0m\u001b[1;33m:\u001b[0m\u001b[1;33m\u001b[0m\u001b[1;33m\u001b[0m\u001b[0m\n\u001b[0;32m    854\u001b[0m             \u001b[1;31m# fit method of arity 2 (supervised transformation)\u001b[0m\u001b[1;33m\u001b[0m\u001b[1;33m\u001b[0m\u001b[0m\n",
      "\u001b[1;32m~\\anaconda3\\lib\\site-packages\\feature_engine\\outliers\\base_outlier.py\u001b[0m in \u001b[0;36mfit\u001b[1;34m(self, X, y)\u001b[0m\n\u001b[0;32m    261\u001b[0m             \u001b[0mscale\u001b[0m \u001b[1;33m=\u001b[0m \u001b[1;33m(\u001b[0m\u001b[0mX\u001b[0m\u001b[1;33m[\u001b[0m\u001b[0mself\u001b[0m\u001b[1;33m.\u001b[0m\u001b[0mvariables_\u001b[0m\u001b[1;33m]\u001b[0m \u001b[1;33m-\u001b[0m \u001b[0mbias\u001b[0m\u001b[1;33m)\u001b[0m\u001b[1;33m.\u001b[0m\u001b[0mabs\u001b[0m\u001b[1;33m(\u001b[0m\u001b[1;33m)\u001b[0m\u001b[1;33m.\u001b[0m\u001b[0mmedian\u001b[0m\u001b[1;33m(\u001b[0m\u001b[1;33m)\u001b[0m \u001b[1;33m/\u001b[0m \u001b[1;36m0.67449\u001b[0m\u001b[1;33m\u001b[0m\u001b[1;33m\u001b[0m\u001b[0m\n\u001b[0;32m    262\u001b[0m         \u001b[1;32mif\u001b[0m \u001b[1;33m(\u001b[0m\u001b[0mscale\u001b[0m \u001b[1;33m==\u001b[0m \u001b[1;36m0\u001b[0m\u001b[1;33m)\u001b[0m\u001b[1;33m.\u001b[0m\u001b[0many\u001b[0m\u001b[1;33m(\u001b[0m\u001b[1;33m)\u001b[0m\u001b[1;33m:\u001b[0m\u001b[1;33m\u001b[0m\u001b[1;33m\u001b[0m\u001b[0m\n\u001b[1;32m--> 263\u001b[1;33m             raise ValueError(\n\u001b[0m\u001b[0;32m    264\u001b[0m                 \u001b[1;34mf\"Input columns {scale[scale == 0].index.tolist()!r}\"\u001b[0m\u001b[1;33m\u001b[0m\u001b[1;33m\u001b[0m\u001b[0m\n\u001b[0;32m    265\u001b[0m                 \u001b[1;34mf\" have low variation for method {self.capping_method!r}.\"\u001b[0m\u001b[1;33m\u001b[0m\u001b[1;33m\u001b[0m\u001b[0m\n",
      "\u001b[1;31mValueError\u001b[0m: Input columns ['Green Mile'] have low variation for method 'iqr'. Try other capping methods or drop these columns."
     ]
    }
   ],
   "source": [
    "winsor_iqr = Winsorizer(capping_method = 'iqr',\n",
    "                           tail = 'both',\n",
    "                            fold = 1.5,\n",
    "                             variables = ('Green Mile'))\n",
    "\n",
    "data_iqr = winsor_iqr.fit_transform(data[['Green Mile']])\n",
    "\n",
    "sns.boxplot(data_iqr['Green Mile'])"
   ]
  },
  {
   "cell_type": "code",
   "execution_count": null,
   "id": "daeb0d15",
   "metadata": {},
   "outputs": [],
   "source": [
    "winsor_iqr = Winsorizer(capping_method = 'iqr',\n",
    "                           tail = 'both',\n",
    "                            fold = 1.5,\n",
    "                             variables = ('Braveheart'))\n",
    "\n",
    "data_iqr = winsor_iqr.fit_transform(data[['Braveheart']])\n",
    "\n",
    "sns.boxplot(data_iqr['Braveheart'])"
   ]
  },
  {
   "cell_type": "code",
   "execution_count": null,
   "id": "e914702c",
   "metadata": {},
   "outputs": [],
   "source": [
    "winsor_iqr = Winsorizer(capping_method = 'iqr',\n",
    "                           tail = 'both',\n",
    "                            fold = 1.5,\n",
    "                             variables = ('LOTR'))\n",
    "\n",
    "data_iqr = winsor_iqr.fit_transform(data[['LOTR']])\n",
    "\n",
    "sns.boxplot(data_iqr['LOTR'])"
   ]
  },
  {
   "cell_type": "code",
   "execution_count": null,
   "id": "a5a0d81e",
   "metadata": {},
   "outputs": [],
   "source": [
    "winsor_iqr = Winsorizer(capping_method = 'iqr',\n",
    "                           tail = 'both',\n",
    "                            fold = 1.5,\n",
    "                             variables = ('Harry Potter1'))\n",
    "\n",
    "data_iqr = winsor_iqr.fit_transform(data[['Harry Potter1']])\n",
    "\n",
    "sns.boxplot(data_iqr['Harry Potter1'])"
   ]
  },
  {
   "cell_type": "code",
   "execution_count": null,
   "id": "0158cebe",
   "metadata": {},
   "outputs": [],
   "source": [
    "winsor_iqr = Winsorizer(capping_method = 'iqr',\n",
    "                           tail = 'both',\n",
    "                            fold = 1.5,\n",
    "                             variables = ('LOTR1'))\n",
    "\n",
    "data_iqr = winsor_iqr.fit_transform(data[['LOTR1']])\n",
    "\n",
    "sns.boxplot(data_iqr['LOTR1'])"
   ]
  },
  {
   "cell_type": "code",
   "execution_count": null,
   "id": "c32ec9a3",
   "metadata": {},
   "outputs": [],
   "source": [
    "# Checking the duplicates in data\n",
    "duplicates = data.duplicated()\n",
    "sum(duplicates)"
   ]
  },
  {
   "cell_type": "code",
   "execution_count": null,
   "id": "316760f8",
   "metadata": {},
   "outputs": [],
   "source": [
    "# Removing the duplicates in data with drop fun\n",
    "data.drop_duplicates(keep = 'last', inplace = True)"
   ]
  },
  {
   "cell_type": "code",
   "execution_count": null,
   "id": "c1161377",
   "metadata": {},
   "outputs": [],
   "source": [
    "duplicates = data.duplicated()\n",
    "sum(duplicates)"
   ]
  },
  {
   "cell_type": "code",
   "execution_count": null,
   "id": "3aa33b22",
   "metadata": {},
   "outputs": [],
   "source": [
    "# Checking the Missing Values\n",
    "data.isna().sum()"
   ]
  },
  {
   "cell_type": "code",
   "execution_count": null,
   "id": "2cb1f9b3",
   "metadata": {},
   "outputs": [],
   "source": [
    "data_cat = data.select_dtypes(exclude = [np.number])\n",
    "data_num = data.select_dtypes(include = [np.number])"
   ]
  },
  {
   "cell_type": "code",
   "execution_count": null,
   "id": "cf31166f",
   "metadata": {},
   "outputs": [],
   "source": [
    "data_cat['V3'].fillna(method = 'ffill', inplace = True)"
   ]
  },
  {
   "cell_type": "code",
   "execution_count": null,
   "id": "3260f32e",
   "metadata": {},
   "outputs": [],
   "source": [
    "data_cat['V4'].fillna(data_cat['V4'].mean, inplace = True)"
   ]
  },
  {
   "cell_type": "code",
   "execution_count": null,
   "id": "9301b544",
   "metadata": {},
   "outputs": [],
   "source": [
    "data_cat['V5'].fillna(method = 'ffill', inplace = True)"
   ]
  },
  {
   "cell_type": "code",
   "execution_count": null,
   "id": "05a07ed7",
   "metadata": {},
   "outputs": [],
   "source": [
    "data_cat.isna().sum()"
   ]
  },
  {
   "cell_type": "code",
   "execution_count": null,
   "id": "6e496726",
   "metadata": {},
   "outputs": [],
   "source": [
    "data_cat = pd.DataFrame(data_cat)"
   ]
  },
  {
   "cell_type": "code",
   "execution_count": null,
   "id": "cc4e280d",
   "metadata": {},
   "outputs": [],
   "source": [
    "duplicate = data.duplicated()\n",
    "sum(duplicate)"
   ]
  },
  {
   "cell_type": "code",
   "execution_count": null,
   "id": "7f09e5b2",
   "metadata": {},
   "outputs": [],
   "source": [
    "data.drop_duplicates(keep = False )"
   ]
  },
  {
   "cell_type": "code",
   "execution_count": null,
   "id": "e6c844ba",
   "metadata": {},
   "outputs": [],
   "source": [
    "duplicate = data.duplicated()\n",
    "sum(duplicate)"
   ]
  },
  {
   "cell_type": "code",
   "execution_count": null,
   "id": "ed94fb4c",
   "metadata": {},
   "outputs": [],
   "source": [
    "data_num = pd.DataFrame(data_num)"
   ]
  },
  {
   "cell_type": "code",
   "execution_count": null,
   "id": "60fd6d40",
   "metadata": {},
   "outputs": [],
   "source": [
    "data = pd.concat((data_cat, data_num), axis = 1)"
   ]
  },
  {
   "cell_type": "code",
   "execution_count": null,
   "id": "251d704b",
   "metadata": {},
   "outputs": [],
   "source": [
    "data.head()"
   ]
  },
  {
   "cell_type": "code",
   "execution_count": null,
   "id": "1e897863",
   "metadata": {},
   "outputs": [],
   "source": [
    "data.describe()"
   ]
  },
  {
   "cell_type": "code",
   "execution_count": null,
   "id": "300d7f7b",
   "metadata": {},
   "outputs": [],
   "source": [
    "def norm_fun(i):\n",
    "    x = (i - i.min())/(i.max() - i.min())\n",
    "    \n",
    "    return x"
   ]
  },
  {
   "cell_type": "code",
   "execution_count": null,
   "id": "237f5df1",
   "metadata": {},
   "outputs": [],
   "source": [
    "data_norm = pd.DataFrame(data)"
   ]
  },
  {
   "cell_type": "code",
   "execution_count": null,
   "id": "9a4b5827",
   "metadata": {},
   "outputs": [],
   "source": [
    "data_norm.describe()"
   ]
  },
  {
   "cell_type": "code",
   "execution_count": null,
   "id": "5bd89853",
   "metadata": {},
   "outputs": [],
   "source": [
    "df = data.iloc[:,5:]"
   ]
  },
  {
   "cell_type": "code",
   "execution_count": null,
   "id": "2cfb0b53",
   "metadata": {},
   "outputs": [],
   "source": [
    "frequent_item = apriori(df, min_support = 0.0075, max_len = 4, use_colnames = True)\n",
    "frequent_item"
   ]
  },
  {
   "cell_type": "code",
   "execution_count": null,
   "id": "c5c4257a",
   "metadata": {},
   "outputs": [],
   "source": [
    "frequent_item.sort_values('support', ascending = False, inplace = True)\n",
    "frequent_item"
   ]
  },
  {
   "cell_type": "code",
   "execution_count": null,
   "id": "8ee2e94f",
   "metadata": {},
   "outputs": [],
   "source": [
    "rule = association_rules(frequent_item, metric = 'lift')\n",
    "rule"
   ]
  },
  {
   "cell_type": "code",
   "execution_count": null,
   "id": "620095e7",
   "metadata": {},
   "outputs": [],
   "source": [
    "rule.sort_values('lift', ascending = False).head(10)"
   ]
  },
  {
   "cell_type": "code",
   "execution_count": null,
   "id": "ee27d5d5",
   "metadata": {},
   "outputs": [],
   "source": []
  },
  {
   "cell_type": "code",
   "execution_count": null,
   "id": "3fb2947e",
   "metadata": {},
   "outputs": [],
   "source": []
  },
  {
   "cell_type": "code",
   "execution_count": null,
   "id": "b63057d8",
   "metadata": {},
   "outputs": [],
   "source": []
  },
  {
   "cell_type": "code",
   "execution_count": null,
   "id": "8c244e00",
   "metadata": {},
   "outputs": [],
   "source": []
  },
  {
   "cell_type": "code",
   "execution_count": null,
   "id": "8f02bf38",
   "metadata": {},
   "outputs": [],
   "source": []
  }
 ],
 "metadata": {
  "kernelspec": {
   "display_name": "Python 3 (ipykernel)",
   "language": "python",
   "name": "python3"
  },
  "language_info": {
   "codemirror_mode": {
    "name": "ipython",
    "version": 3
   },
   "file_extension": ".py",
   "mimetype": "text/x-python",
   "name": "python",
   "nbconvert_exporter": "python",
   "pygments_lexer": "ipython3",
   "version": "3.9.13"
  }
 },
 "nbformat": 4,
 "nbformat_minor": 5
}
